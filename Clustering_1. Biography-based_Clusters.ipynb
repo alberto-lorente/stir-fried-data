{
 "cells": [
  {
   "cell_type": "markdown",
   "metadata": {},
   "source": [
    "Cluster bias: category\n",
    "\n",
    "Flat clustering (partitioning) -> clustering should be k-means"
   ]
  },
  {
   "cell_type": "markdown",
   "metadata": {},
   "source": [
    "The cluster elements are document vectors"
   ]
  },
  {
   "cell_type": "markdown",
   "metadata": {},
   "source": [
    "Extrinsic Eval: we are comparing the clusters vs ground truth (the categories)\n",
    "\n",
    "Metrics:\n",
    "\n",
    "Similarity between elements in a cluster\n",
    "\n",
    "Homogeneity, Completeness and V-measure, Rand index, Adjusted Rand index, FowlkesMallows scores, Mutual information based scores ...\n",
    "\n",
    "Even though silhouette coefficient is used for non-supervised clustering, we can check it to intuitively see if the models have difficulties bc the texts are two different. We could compare the silhouette scores for the diff text data used to see which one is more appropiate? "
   ]
  },
  {
   "cell_type": "code",
   "execution_count": 108,
   "metadata": {},
   "outputs": [],
   "source": [
    "import pandas as pd \n",
    "import numpy as np \n",
    "import matplotlib as plt \n",
    "from nltk import word_tokenize\n",
    "from sklearn.feature_extraction.text import TfidfVectorizer\n",
    "from sklearn.cluster import KMeans\n",
    "import re"
   ]
  },
  {
   "cell_type": "code",
   "execution_count": 109,
   "metadata": {},
   "outputs": [],
   "source": [
    "df = pd.read_csv(\"physics_and_chemistry_nobel_laureate.csv\")"
   ]
  },
  {
   "cell_type": "code",
   "execution_count": 110,
   "metadata": {},
   "outputs": [
    {
     "data": {
      "text/html": [
       "<div>\n",
       "<style scoped>\n",
       "    .dataframe tbody tr th:only-of-type {\n",
       "        vertical-align: middle;\n",
       "    }\n",
       "\n",
       "    .dataframe tbody tr th {\n",
       "        vertical-align: top;\n",
       "    }\n",
       "\n",
       "    .dataframe thead th {\n",
       "        text-align: right;\n",
       "    }\n",
       "</style>\n",
       "<table border=\"1\" class=\"dataframe\">\n",
       "  <thead>\n",
       "    <tr style=\"text-align: right;\">\n",
       "      <th></th>\n",
       "      <th>year</th>\n",
       "      <th>name</th>\n",
       "      <th>country</th>\n",
       "      <th>category</th>\n",
       "      <th>biography</th>\n",
       "    </tr>\n",
       "  </thead>\n",
       "  <tbody>\n",
       "    <tr>\n",
       "      <th>0</th>\n",
       "      <td>1901</td>\n",
       "      <td>Wilhelm Röntgen</td>\n",
       "      <td>German Empire</td>\n",
       "      <td>Physics</td>\n",
       "      <td>Wilhelm Conrad Röntgen (; German pronunciation...</td>\n",
       "    </tr>\n",
       "    <tr>\n",
       "      <th>1</th>\n",
       "      <td>1902</td>\n",
       "      <td>Hendrik Lorentz</td>\n",
       "      <td>Netherlands</td>\n",
       "      <td>Physics</td>\n",
       "      <td>Hendrik Antoon Lorentz (; 18 July 1853 – 4 Feb...</td>\n",
       "    </tr>\n",
       "    <tr>\n",
       "      <th>2</th>\n",
       "      <td>1902</td>\n",
       "      <td>Pieter Zeeman</td>\n",
       "      <td>Netherlands</td>\n",
       "      <td>Physics</td>\n",
       "      <td>Pieter Zeeman (Dutch: [ˈzeːmɑn]; 25 May 1865 –...</td>\n",
       "    </tr>\n",
       "    <tr>\n",
       "      <th>3</th>\n",
       "      <td>1903</td>\n",
       "      <td>Henri Becquerel</td>\n",
       "      <td>France</td>\n",
       "      <td>Physics</td>\n",
       "      <td>Antoine Henri Becquerel (; French pronunciatio...</td>\n",
       "    </tr>\n",
       "    <tr>\n",
       "      <th>4</th>\n",
       "      <td>1903</td>\n",
       "      <td>Pierre Curie</td>\n",
       "      <td>France</td>\n",
       "      <td>Physics</td>\n",
       "      <td>Pierre Curie ( KURE-ee, French: [pjɛʁ kyʁi]; 1...</td>\n",
       "    </tr>\n",
       "  </tbody>\n",
       "</table>\n",
       "</div>"
      ],
      "text/plain": [
       "   year             name        country category  \\\n",
       "0  1901  Wilhelm Röntgen  German Empire  Physics   \n",
       "1  1902  Hendrik Lorentz    Netherlands  Physics   \n",
       "2  1902    Pieter Zeeman    Netherlands  Physics   \n",
       "3  1903  Henri Becquerel         France  Physics   \n",
       "4  1903     Pierre Curie         France  Physics   \n",
       "\n",
       "                                           biography  \n",
       "0  Wilhelm Conrad Röntgen (; German pronunciation...  \n",
       "1  Hendrik Antoon Lorentz (; 18 July 1853 – 4 Feb...  \n",
       "2  Pieter Zeeman (Dutch: [ˈzeːmɑn]; 25 May 1865 –...  \n",
       "3  Antoine Henri Becquerel (; French pronunciatio...  \n",
       "4  Pierre Curie ( KURE-ee, French: [pjɛʁ kyʁi]; 1...  "
      ]
     },
     "execution_count": 110,
     "metadata": {},
     "output_type": "execute_result"
    }
   ],
   "source": [
    "df.head()"
   ]
  },
  {
   "cell_type": "code",
   "execution_count": 111,
   "metadata": {},
   "outputs": [
    {
     "name": "stdout",
     "output_type": "stream",
     "text": [
      "200\n"
     ]
    }
   ],
   "source": [
    "corpus = df[\"biography\"].to_list()\n",
    "print(len(corpus))"
   ]
  },
  {
   "cell_type": "markdown",
   "metadata": {},
   "source": [
    "Preprocess to remove all the Wiki characters"
   ]
  },
  {
   "cell_type": "code",
   "execution_count": 112,
   "metadata": {},
   "outputs": [],
   "source": [
    "def contains_alphanum(word):\n",
    "    \n",
    "    regex = r'\\w.+?|[0-9]|\\d.+?'\n",
    "    search = re.match(regex, word)\n",
    "    boolean = bool(search)\n",
    "    return boolean "
   ]
  },
  {
   "cell_type": "code",
   "execution_count": 113,
   "metadata": {},
   "outputs": [],
   "source": [
    "import spacy\n",
    "nlp = spacy.load(\"en_core_web_sm\")"
   ]
  },
  {
   "cell_type": "code",
   "execution_count": 114,
   "metadata": {},
   "outputs": [],
   "source": [
    "def filter_tokens(text):\n",
    "    doc = nlp(text)\n",
    "    tokens = [token.text for token in doc if contains_alphanum(token.text) == True]\n",
    "    filtered_tokens = [token.text for token in doc if contains_alphanum(token.text) == False]\n",
    "    # print(set(filtered_tokens))\n",
    "    clean_text = \" \".join(tokens)\n",
    "    return clean_text"
   ]
  },
  {
   "cell_type": "code",
   "execution_count": 115,
   "metadata": {},
   "outputs": [],
   "source": [
    "df[\"clean\"] = df[\"biography\"].apply(filter_tokens)"
   ]
  },
  {
   "cell_type": "markdown",
   "metadata": {},
   "source": [
    "Random idea: t-test for math characters -> justify whether we can use this regex for both categories"
   ]
  },
  {
   "cell_type": "markdown",
   "metadata": {},
   "source": [
    "## Model"
   ]
  },
  {
   "cell_type": "markdown",
   "metadata": {},
   "source": [
    "### Data splitting"
   ]
  },
  {
   "cell_type": "code",
   "execution_count": 116,
   "metadata": {},
   "outputs": [],
   "source": [
    "from sklearn.model_selection import train_test_split\n",
    "\n",
    "X = df[\"clean\"].to_numpy()\n",
    "y = df[\"category\"].to_numpy()"
   ]
  },
  {
   "cell_type": "code",
   "execution_count": 117,
   "metadata": {},
   "outputs": [],
   "source": [
    "# train_proportion = 0.8\n",
    "X_train, X_test, y_train, y_test = train_test_split(X, y, test_size=0.2, random_state=42, stratify=y, shuffle=True)"
   ]
  },
  {
   "cell_type": "markdown",
   "metadata": {},
   "source": [
    "### Data vectorization"
   ]
  },
  {
   "cell_type": "code",
   "execution_count": 118,
   "metadata": {},
   "outputs": [],
   "source": [
    "vectorizer = TfidfVectorizer(max_features=20,\n",
    "                                       use_idf=True,\n",
    "                                       stop_words='english',\n",
    "                                       tokenizer=word_tokenize)"
   ]
  },
  {
   "cell_type": "code",
   "execution_count": 119,
   "metadata": {},
   "outputs": [
    {
     "name": "stderr",
     "output_type": "stream",
     "text": [
      "c:\\Users\\alber\\AppData\\Local\\Programs\\Python\\Python312\\Lib\\site-packages\\sklearn\\feature_extraction\\text.py:525: UserWarning: The parameter 'token_pattern' will not be used since 'tokenizer' is not None'\n",
      "  warnings.warn(\n"
     ]
    }
   ],
   "source": [
    "doc_vectors_train = vectorizer.fit_transform(X_train)\n",
    "doc_vectors_test = vectorizer.transform(X_test)"
   ]
  },
  {
   "cell_type": "code",
   "execution_count": 120,
   "metadata": {},
   "outputs": [
    {
     "data": {
      "text/plain": [
       "array(['american', 'born', 'chemistry', 'einstein', 'institute',\n",
       "       'laboratory', 'life', 'new', 'nobel', 'physics', 'prize',\n",
       "       'professor', 'research', 'science', 'society', 'theory', 'time',\n",
       "       'university', 'war', 'work'], dtype=object)"
      ]
     },
     "execution_count": 120,
     "metadata": {},
     "output_type": "execute_result"
    }
   ],
   "source": [
    "vectorizer.get_feature_names_out()"
   ]
  },
  {
   "cell_type": "markdown",
   "metadata": {},
   "source": [
    "### Clustering"
   ]
  },
  {
   "cell_type": "code",
   "execution_count": 121,
   "metadata": {},
   "outputs": [],
   "source": [
    "km = KMeans(n_clusters=2, init='k-means++', max_iter=300, n_init=5, verbose=0, random_state=42)"
   ]
  },
  {
   "cell_type": "code",
   "execution_count": 122,
   "metadata": {},
   "outputs": [
    {
     "data": {
      "text/html": [
       "<style>#sk-container-id-5 {color: black;}#sk-container-id-5 pre{padding: 0;}#sk-container-id-5 div.sk-toggleable {background-color: white;}#sk-container-id-5 label.sk-toggleable__label {cursor: pointer;display: block;width: 100%;margin-bottom: 0;padding: 0.3em;box-sizing: border-box;text-align: center;}#sk-container-id-5 label.sk-toggleable__label-arrow:before {content: \"▸\";float: left;margin-right: 0.25em;color: #696969;}#sk-container-id-5 label.sk-toggleable__label-arrow:hover:before {color: black;}#sk-container-id-5 div.sk-estimator:hover label.sk-toggleable__label-arrow:before {color: black;}#sk-container-id-5 div.sk-toggleable__content {max-height: 0;max-width: 0;overflow: hidden;text-align: left;background-color: #f0f8ff;}#sk-container-id-5 div.sk-toggleable__content pre {margin: 0.2em;color: black;border-radius: 0.25em;background-color: #f0f8ff;}#sk-container-id-5 input.sk-toggleable__control:checked~div.sk-toggleable__content {max-height: 200px;max-width: 100%;overflow: auto;}#sk-container-id-5 input.sk-toggleable__control:checked~label.sk-toggleable__label-arrow:before {content: \"▾\";}#sk-container-id-5 div.sk-estimator input.sk-toggleable__control:checked~label.sk-toggleable__label {background-color: #d4ebff;}#sk-container-id-5 div.sk-label input.sk-toggleable__control:checked~label.sk-toggleable__label {background-color: #d4ebff;}#sk-container-id-5 input.sk-hidden--visually {border: 0;clip: rect(1px 1px 1px 1px);clip: rect(1px, 1px, 1px, 1px);height: 1px;margin: -1px;overflow: hidden;padding: 0;position: absolute;width: 1px;}#sk-container-id-5 div.sk-estimator {font-family: monospace;background-color: #f0f8ff;border: 1px dotted black;border-radius: 0.25em;box-sizing: border-box;margin-bottom: 0.5em;}#sk-container-id-5 div.sk-estimator:hover {background-color: #d4ebff;}#sk-container-id-5 div.sk-parallel-item::after {content: \"\";width: 100%;border-bottom: 1px solid gray;flex-grow: 1;}#sk-container-id-5 div.sk-label:hover label.sk-toggleable__label {background-color: #d4ebff;}#sk-container-id-5 div.sk-serial::before {content: \"\";position: absolute;border-left: 1px solid gray;box-sizing: border-box;top: 0;bottom: 0;left: 50%;z-index: 0;}#sk-container-id-5 div.sk-serial {display: flex;flex-direction: column;align-items: center;background-color: white;padding-right: 0.2em;padding-left: 0.2em;position: relative;}#sk-container-id-5 div.sk-item {position: relative;z-index: 1;}#sk-container-id-5 div.sk-parallel {display: flex;align-items: stretch;justify-content: center;background-color: white;position: relative;}#sk-container-id-5 div.sk-item::before, #sk-container-id-5 div.sk-parallel-item::before {content: \"\";position: absolute;border-left: 1px solid gray;box-sizing: border-box;top: 0;bottom: 0;left: 50%;z-index: -1;}#sk-container-id-5 div.sk-parallel-item {display: flex;flex-direction: column;z-index: 1;position: relative;background-color: white;}#sk-container-id-5 div.sk-parallel-item:first-child::after {align-self: flex-end;width: 50%;}#sk-container-id-5 div.sk-parallel-item:last-child::after {align-self: flex-start;width: 50%;}#sk-container-id-5 div.sk-parallel-item:only-child::after {width: 0;}#sk-container-id-5 div.sk-dashed-wrapped {border: 1px dashed gray;margin: 0 0.4em 0.5em 0.4em;box-sizing: border-box;padding-bottom: 0.4em;background-color: white;}#sk-container-id-5 div.sk-label label {font-family: monospace;font-weight: bold;display: inline-block;line-height: 1.2em;}#sk-container-id-5 div.sk-label-container {text-align: center;}#sk-container-id-5 div.sk-container {/* jupyter's `normalize.less` sets `[hidden] { display: none; }` but bootstrap.min.css set `[hidden] { display: none !important; }` so we also need the `!important` here to be able to override the default hidden behavior on the sphinx rendered scikit-learn.org. See: https://github.com/scikit-learn/scikit-learn/issues/21755 */display: inline-block !important;position: relative;}#sk-container-id-5 div.sk-text-repr-fallback {display: none;}</style><div id=\"sk-container-id-5\" class=\"sk-top-container\"><div class=\"sk-text-repr-fallback\"><pre>KMeans(n_clusters=2, n_init=5, random_state=42)</pre><b>In a Jupyter environment, please rerun this cell to show the HTML representation or trust the notebook. <br />On GitHub, the HTML representation is unable to render, please try loading this page with nbviewer.org.</b></div><div class=\"sk-container\" hidden><div class=\"sk-item\"><div class=\"sk-estimator sk-toggleable\"><input class=\"sk-toggleable__control sk-hidden--visually\" id=\"sk-estimator-id-5\" type=\"checkbox\" checked><label for=\"sk-estimator-id-5\" class=\"sk-toggleable__label sk-toggleable__label-arrow\">KMeans</label><div class=\"sk-toggleable__content\"><pre>KMeans(n_clusters=2, n_init=5, random_state=42)</pre></div></div></div></div></div>"
      ],
      "text/plain": [
       "KMeans(n_clusters=2, n_init=5, random_state=42)"
      ]
     },
     "execution_count": 122,
     "metadata": {},
     "output_type": "execute_result"
    }
   ],
   "source": [
    "km.fit(doc_vectors_train)"
   ]
  },
  {
   "cell_type": "code",
   "execution_count": 123,
   "metadata": {},
   "outputs": [
    {
     "data": {
      "text/plain": [
       "array([0, 1, 1, 1, 1, 1, 0, 0, 0, 0, 0, 0, 1, 1, 1, 1, 0, 0, 0, 1, 0, 0,\n",
       "       1, 1, 1, 0, 0, 0, 1, 1, 1, 1, 1, 0, 1, 0, 0, 1, 0, 0, 1, 1, 1, 1,\n",
       "       0, 0, 1, 1, 0, 1, 0, 1, 0, 1, 0, 0, 1, 0, 1, 0, 1, 1, 0, 1, 0, 0,\n",
       "       1, 0, 1, 0, 1, 0, 1, 1, 0, 0, 1, 0, 1, 1, 0, 1, 1, 1, 1, 0, 0, 1,\n",
       "       1, 1, 0, 1, 0, 1, 0, 1, 1, 1, 0, 0, 0, 1, 0, 0, 1, 0, 1, 0, 1, 0,\n",
       "       1, 1, 0, 0, 0, 1, 0, 0, 0, 0, 1, 0, 1, 1, 1, 1, 0, 1, 0, 1, 0, 0,\n",
       "       1, 1, 1, 0, 1, 0, 1, 1, 0, 1, 0, 1, 1, 1, 1, 1, 1, 0, 0, 0, 1, 1,\n",
       "       0, 0, 1, 1, 1, 0])"
      ]
     },
     "execution_count": 123,
     "metadata": {},
     "output_type": "execute_result"
    }
   ],
   "source": [
    "km.labels_"
   ]
  },
  {
   "cell_type": "code",
   "execution_count": 150,
   "metadata": {},
   "outputs": [],
   "source": [
    "# would this be the actual way to get the predictions???\n",
    "\n",
    "y_clusters_train = km.labels_.tolist()"
   ]
  },
  {
   "cell_type": "code",
   "execution_count": 128,
   "metadata": {},
   "outputs": [],
   "source": [
    "y_pred = km.predict(doc_vectors_test)"
   ]
  },
  {
   "cell_type": "code",
   "execution_count": 129,
   "metadata": {},
   "outputs": [
    {
     "data": {
      "text/plain": [
       "array([0, 1, 1, 1, 0, 1, 0, 1, 1, 0, 1, 1, 0, 1, 0, 0, 1, 0, 0, 1, 0, 1,\n",
       "       1, 1, 1, 1, 1, 0, 1, 0, 1, 0, 0, 0, 0, 0, 0, 0, 1, 0])"
      ]
     },
     "execution_count": 129,
     "metadata": {},
     "output_type": "execute_result"
    }
   ],
   "source": [
    "y_pred"
   ]
  },
  {
   "cell_type": "markdown",
   "metadata": {},
   "source": [
    "## Visualizations, TO DO!!!!!!!!!!!!!!!!!\n",
    "\n",
    "TO DO"
   ]
  },
  {
   "cell_type": "markdown",
   "metadata": {},
   "source": [
    "## Results"
   ]
  },
  {
   "cell_type": "code",
   "execution_count": 139,
   "metadata": {},
   "outputs": [],
   "source": [
    "cluster_df_test = pd.DataFrame({\"text\": X_test, \"target_category\": y_test, \"predicted_category\": y_pred, \"data_split\":\"test\"})"
   ]
  },
  {
   "cell_type": "code",
   "execution_count": 140,
   "metadata": {},
   "outputs": [],
   "source": [
    "cluster_df_train = pd.DataFrame({\"text\": X_train, \"target_category\": y_train, \"predicted_category\": y_clusters_train, \"data_split\":\"train\"})"
   ]
  },
  {
   "cell_type": "code",
   "execution_count": 141,
   "metadata": {},
   "outputs": [],
   "source": [
    "cluster_df = pd.concat([cluster_df_test, cluster_df_train])"
   ]
  },
  {
   "cell_type": "code",
   "execution_count": 143,
   "metadata": {},
   "outputs": [
    {
     "data": {
      "text/html": [
       "<div>\n",
       "<style scoped>\n",
       "    .dataframe tbody tr th:only-of-type {\n",
       "        vertical-align: middle;\n",
       "    }\n",
       "\n",
       "    .dataframe tbody tr th {\n",
       "        vertical-align: top;\n",
       "    }\n",
       "\n",
       "    .dataframe thead th {\n",
       "        text-align: right;\n",
       "    }\n",
       "</style>\n",
       "<table border=\"1\" class=\"dataframe\">\n",
       "  <thead>\n",
       "    <tr style=\"text-align: right;\">\n",
       "      <th></th>\n",
       "      <th>text</th>\n",
       "      <th>target_category</th>\n",
       "      <th>predicted_category</th>\n",
       "      <th>data_split</th>\n",
       "    </tr>\n",
       "  </thead>\n",
       "  <tbody>\n",
       "    <tr>\n",
       "      <th>0</th>\n",
       "      <td>Hermann Staudinger German pronunciation ˈhɛʁma...</td>\n",
       "      <td>Chemistry</td>\n",
       "      <td>0</td>\n",
       "      <td>train</td>\n",
       "    </tr>\n",
       "    <tr>\n",
       "      <th>1</th>\n",
       "      <td>Rudolf Ludwig Mössbauer German spelling Mößbau...</td>\n",
       "      <td>Physics</td>\n",
       "      <td>1</td>\n",
       "      <td>train</td>\n",
       "    </tr>\n",
       "    <tr>\n",
       "      <th>2</th>\n",
       "      <td>Gerhard Heinrich Friedrich Otto Julius Herzber...</td>\n",
       "      <td>Chemistry</td>\n",
       "      <td>1</td>\n",
       "      <td>train</td>\n",
       "    </tr>\n",
       "    <tr>\n",
       "      <th>3</th>\n",
       "      <td>Wilhelm Conrad Röntgen German pronunciation ˈv...</td>\n",
       "      <td>Physics</td>\n",
       "      <td>1</td>\n",
       "      <td>train</td>\n",
       "    </tr>\n",
       "    <tr>\n",
       "      <th>4</th>\n",
       "      <td>Frits Zernike Dutch pronunciation ˈfrɪtˈsɛrnik...</td>\n",
       "      <td>Physics</td>\n",
       "      <td>1</td>\n",
       "      <td>train</td>\n",
       "    </tr>\n",
       "    <tr>\n",
       "      <th>...</th>\n",
       "      <td>...</td>\n",
       "      <td>...</td>\n",
       "      <td>...</td>\n",
       "      <td>...</td>\n",
       "    </tr>\n",
       "    <tr>\n",
       "      <th>155</th>\n",
       "      <td>Frederick Soddy FRS 2 September 1877 22 Septem...</td>\n",
       "      <td>Chemistry</td>\n",
       "      <td>0</td>\n",
       "      <td>train</td>\n",
       "    </tr>\n",
       "    <tr>\n",
       "      <th>156</th>\n",
       "      <td>Yang Chen Ning or Chen Ning Yang simplified Ch...</td>\n",
       "      <td>Physics</td>\n",
       "      <td>1</td>\n",
       "      <td>train</td>\n",
       "    </tr>\n",
       "    <tr>\n",
       "      <th>157</th>\n",
       "      <td>Alexander Mikhailovich Prokhorov born Alexande...</td>\n",
       "      <td>Physics</td>\n",
       "      <td>1</td>\n",
       "      <td>train</td>\n",
       "    </tr>\n",
       "    <tr>\n",
       "      <th>158</th>\n",
       "      <td>Patrick Maynard Stuart Blackett Baron Blackett...</td>\n",
       "      <td>Physics</td>\n",
       "      <td>1</td>\n",
       "      <td>train</td>\n",
       "    </tr>\n",
       "    <tr>\n",
       "      <th>159</th>\n",
       "      <td>Maria Salomea Skłodowska Curie Polish ˈmarja s...</td>\n",
       "      <td>Physics</td>\n",
       "      <td>0</td>\n",
       "      <td>train</td>\n",
       "    </tr>\n",
       "  </tbody>\n",
       "</table>\n",
       "<p>160 rows × 4 columns</p>\n",
       "</div>"
      ],
      "text/plain": [
       "                                                  text target_category  \\\n",
       "0    Hermann Staudinger German pronunciation ˈhɛʁma...       Chemistry   \n",
       "1    Rudolf Ludwig Mössbauer German spelling Mößbau...         Physics   \n",
       "2    Gerhard Heinrich Friedrich Otto Julius Herzber...       Chemistry   \n",
       "3    Wilhelm Conrad Röntgen German pronunciation ˈv...         Physics   \n",
       "4    Frits Zernike Dutch pronunciation ˈfrɪtˈsɛrnik...         Physics   \n",
       "..                                                 ...             ...   \n",
       "155  Frederick Soddy FRS 2 September 1877 22 Septem...       Chemistry   \n",
       "156  Yang Chen Ning or Chen Ning Yang simplified Ch...         Physics   \n",
       "157  Alexander Mikhailovich Prokhorov born Alexande...         Physics   \n",
       "158  Patrick Maynard Stuart Blackett Baron Blackett...         Physics   \n",
       "159  Maria Salomea Skłodowska Curie Polish ˈmarja s...         Physics   \n",
       "\n",
       "     predicted_category data_split  \n",
       "0                     0      train  \n",
       "1                     1      train  \n",
       "2                     1      train  \n",
       "3                     1      train  \n",
       "4                     1      train  \n",
       "..                  ...        ...  \n",
       "155                   0      train  \n",
       "156                   1      train  \n",
       "157                   1      train  \n",
       "158                   1      train  \n",
       "159                   0      train  \n",
       "\n",
       "[160 rows x 4 columns]"
      ]
     },
     "execution_count": 143,
     "metadata": {},
     "output_type": "execute_result"
    }
   ],
   "source": [
    "cluster_df[cluster_df[\"data_split\"] == \"train\"]"
   ]
  },
  {
   "cell_type": "code",
   "execution_count": 144,
   "metadata": {},
   "outputs": [
    {
     "data": {
      "text/html": [
       "<div>\n",
       "<style scoped>\n",
       "    .dataframe tbody tr th:only-of-type {\n",
       "        vertical-align: middle;\n",
       "    }\n",
       "\n",
       "    .dataframe tbody tr th {\n",
       "        vertical-align: top;\n",
       "    }\n",
       "\n",
       "    .dataframe thead th {\n",
       "        text-align: right;\n",
       "    }\n",
       "</style>\n",
       "<table border=\"1\" class=\"dataframe\">\n",
       "  <thead>\n",
       "    <tr style=\"text-align: right;\">\n",
       "      <th></th>\n",
       "      <th>text</th>\n",
       "      <th>target_category</th>\n",
       "      <th>predicted_category</th>\n",
       "      <th>data_split</th>\n",
       "    </tr>\n",
       "  </thead>\n",
       "  <tbody>\n",
       "    <tr>\n",
       "      <th>0</th>\n",
       "      <td>Adolf Friedrich Johann Butenandt German pronun...</td>\n",
       "      <td>Chemistry</td>\n",
       "      <td>0</td>\n",
       "      <td>test</td>\n",
       "    </tr>\n",
       "    <tr>\n",
       "      <th>1</th>\n",
       "      <td>Victor Franz Hess German ˈvɪktoːɐ̯ fʁants ˈhɛs...</td>\n",
       "      <td>Physics</td>\n",
       "      <td>1</td>\n",
       "      <td>test</td>\n",
       "    </tr>\n",
       "    <tr>\n",
       "      <th>2</th>\n",
       "      <td>Reona Esaki 江崎 玲於奈 Esaki Reona born March 12 1...</td>\n",
       "      <td>Physics</td>\n",
       "      <td>1</td>\n",
       "      <td>test</td>\n",
       "    </tr>\n",
       "    <tr>\n",
       "      <th>3</th>\n",
       "      <td>Ivar Giaever Norwegian Giæver IPA ˈìːvɑr ˈjèːv...</td>\n",
       "      <td>Physics</td>\n",
       "      <td>1</td>\n",
       "      <td>test</td>\n",
       "    </tr>\n",
       "    <tr>\n",
       "      <th>4</th>\n",
       "      <td>Adolf Otto Reinhold Windaus German pronunciati...</td>\n",
       "      <td>Chemistry</td>\n",
       "      <td>0</td>\n",
       "      <td>test</td>\n",
       "    </tr>\n",
       "    <tr>\n",
       "      <th>5</th>\n",
       "      <td>Pierre Curie KURE ee French pjɛʁ kyʁi 15 May 1...</td>\n",
       "      <td>Physics</td>\n",
       "      <td>1</td>\n",
       "      <td>test</td>\n",
       "    </tr>\n",
       "    <tr>\n",
       "      <th>6</th>\n",
       "      <td>Irving Langmuir January 31 1881 August 16 1957...</td>\n",
       "      <td>Chemistry</td>\n",
       "      <td>0</td>\n",
       "      <td>test</td>\n",
       "    </tr>\n",
       "    <tr>\n",
       "      <th>7</th>\n",
       "      <td>Nikolay Gennadiyevich Basov Russian Никола́й Г...</td>\n",
       "      <td>Physics</td>\n",
       "      <td>1</td>\n",
       "      <td>test</td>\n",
       "    </tr>\n",
       "    <tr>\n",
       "      <th>8</th>\n",
       "      <td>Willis Eugene Lamb Jr. July 12 1913 May 15 200...</td>\n",
       "      <td>Physics</td>\n",
       "      <td>1</td>\n",
       "      <td>test</td>\n",
       "    </tr>\n",
       "    <tr>\n",
       "      <th>9</th>\n",
       "      <td>Vladimir Prelog 23 July 1906 7 January 1998 wa...</td>\n",
       "      <td>Chemistry</td>\n",
       "      <td>0</td>\n",
       "      <td>test</td>\n",
       "    </tr>\n",
       "    <tr>\n",
       "      <th>10</th>\n",
       "      <td>Philipp Eduard Anton von Lenard German pronunc...</td>\n",
       "      <td>Physics</td>\n",
       "      <td>1</td>\n",
       "      <td>test</td>\n",
       "    </tr>\n",
       "    <tr>\n",
       "      <th>11</th>\n",
       "      <td>Brian David Josephson born 4 January 1940 is B...</td>\n",
       "      <td>Physics</td>\n",
       "      <td>1</td>\n",
       "      <td>test</td>\n",
       "    </tr>\n",
       "    <tr>\n",
       "      <th>12</th>\n",
       "      <td>Hermann Emil Louis Fischer German pronunciatio...</td>\n",
       "      <td>Chemistry</td>\n",
       "      <td>0</td>\n",
       "      <td>test</td>\n",
       "    </tr>\n",
       "    <tr>\n",
       "      <th>13</th>\n",
       "      <td>Karl Manne Georg Siegbahn FRS(For HFRSE 3 Dece...</td>\n",
       "      <td>Physics</td>\n",
       "      <td>1</td>\n",
       "      <td>test</td>\n",
       "    </tr>\n",
       "    <tr>\n",
       "      <th>14</th>\n",
       "      <td>Georg Wittig German ˈɡeː.ɔʁk ˈvɪ.tɪç 16 June 1...</td>\n",
       "      <td>Chemistry</td>\n",
       "      <td>0</td>\n",
       "      <td>test</td>\n",
       "    </tr>\n",
       "    <tr>\n",
       "      <th>15</th>\n",
       "      <td>Richard Martin Willstätter FRS(For HFRSE Germa...</td>\n",
       "      <td>Chemistry</td>\n",
       "      <td>0</td>\n",
       "      <td>test</td>\n",
       "    </tr>\n",
       "    <tr>\n",
       "      <th>16</th>\n",
       "      <td>Emilio Gino Segrè Italian seˈgrɛ 1 February 19...</td>\n",
       "      <td>Physics</td>\n",
       "      <td>1</td>\n",
       "      <td>test</td>\n",
       "    </tr>\n",
       "    <tr>\n",
       "      <th>17</th>\n",
       "      <td>Archer John Porter Martin 1 March 1910 28 July...</td>\n",
       "      <td>Chemistry</td>\n",
       "      <td>0</td>\n",
       "      <td>test</td>\n",
       "    </tr>\n",
       "    <tr>\n",
       "      <th>18</th>\n",
       "      <td>William Nunn Lipscomb Jr. December 9 1919 Apri...</td>\n",
       "      <td>Chemistry</td>\n",
       "      <td>0</td>\n",
       "      <td>test</td>\n",
       "    </tr>\n",
       "    <tr>\n",
       "      <th>19</th>\n",
       "      <td>Louis Victor Pierre Raymond 7th Duc de Broglie...</td>\n",
       "      <td>Physics</td>\n",
       "      <td>1</td>\n",
       "      <td>test</td>\n",
       "    </tr>\n",
       "    <tr>\n",
       "      <th>20</th>\n",
       "      <td>Manfred Eigen German pronunciation ˈmanˌfʁeːt ...</td>\n",
       "      <td>Chemistry</td>\n",
       "      <td>0</td>\n",
       "      <td>test</td>\n",
       "    </tr>\n",
       "    <tr>\n",
       "      <th>21</th>\n",
       "      <td>Isidor Isaac Rabi born Israel Isaac Rabi July ...</td>\n",
       "      <td>Physics</td>\n",
       "      <td>1</td>\n",
       "      <td>test</td>\n",
       "    </tr>\n",
       "    <tr>\n",
       "      <th>22</th>\n",
       "      <td>Johannes Stark German pronunciation joˈhanəs ʃ...</td>\n",
       "      <td>Physics</td>\n",
       "      <td>1</td>\n",
       "      <td>test</td>\n",
       "    </tr>\n",
       "    <tr>\n",
       "      <th>23</th>\n",
       "      <td>John William Strutt 3rd Baron Rayleigh 12 Nove...</td>\n",
       "      <td>Physics</td>\n",
       "      <td>1</td>\n",
       "      <td>test</td>\n",
       "    </tr>\n",
       "    <tr>\n",
       "      <th>24</th>\n",
       "      <td>Sir George Paget Thomson FRS 3 May 1892 10 Sep...</td>\n",
       "      <td>Physics</td>\n",
       "      <td>1</td>\n",
       "      <td>test</td>\n",
       "    </tr>\n",
       "    <tr>\n",
       "      <th>25</th>\n",
       "      <td>Owen Chamberlain July 10 1920 February 28 2006...</td>\n",
       "      <td>Physics</td>\n",
       "      <td>1</td>\n",
       "      <td>test</td>\n",
       "    </tr>\n",
       "    <tr>\n",
       "      <th>26</th>\n",
       "      <td>Guglielmo Giovanni Maria Marconi 1st Marquis o...</td>\n",
       "      <td>Physics</td>\n",
       "      <td>1</td>\n",
       "      <td>test</td>\n",
       "    </tr>\n",
       "    <tr>\n",
       "      <th>27</th>\n",
       "      <td>Paul John Flory June 19 1910 September 9 1985 ...</td>\n",
       "      <td>Chemistry</td>\n",
       "      <td>0</td>\n",
       "      <td>test</td>\n",
       "    </tr>\n",
       "    <tr>\n",
       "      <th>28</th>\n",
       "      <td>Sir Owen Willans Richardson FRS 26 April 1879 ...</td>\n",
       "      <td>Physics</td>\n",
       "      <td>1</td>\n",
       "      <td>test</td>\n",
       "    </tr>\n",
       "    <tr>\n",
       "      <th>29</th>\n",
       "      <td>Richard Adolf Zsigmondy Hungarian Zsigmondy Ri...</td>\n",
       "      <td>Chemistry</td>\n",
       "      <td>0</td>\n",
       "      <td>test</td>\n",
       "    </tr>\n",
       "    <tr>\n",
       "      <th>30</th>\n",
       "      <td>Werner Karl Heisenberg pronounced ˈvɛʁnɐ kaʁl ...</td>\n",
       "      <td>Physics</td>\n",
       "      <td>1</td>\n",
       "      <td>test</td>\n",
       "    </tr>\n",
       "    <tr>\n",
       "      <th>31</th>\n",
       "      <td>Paul Berg June 30 1926 February 15 2023 was an...</td>\n",
       "      <td>Chemistry</td>\n",
       "      <td>0</td>\n",
       "      <td>test</td>\n",
       "    </tr>\n",
       "    <tr>\n",
       "      <th>32</th>\n",
       "      <td>Lars Onsager November 27 1903 October 5 1976 w...</td>\n",
       "      <td>Chemistry</td>\n",
       "      <td>0</td>\n",
       "      <td>test</td>\n",
       "    </tr>\n",
       "    <tr>\n",
       "      <th>33</th>\n",
       "      <td>Ernst Otto Fischer German pronunciation ˈɛʁnst...</td>\n",
       "      <td>Chemistry</td>\n",
       "      <td>0</td>\n",
       "      <td>test</td>\n",
       "    </tr>\n",
       "    <tr>\n",
       "      <th>34</th>\n",
       "      <td>Frederick Sanger 13 August 1918 19 November 20...</td>\n",
       "      <td>Chemistry</td>\n",
       "      <td>0</td>\n",
       "      <td>test</td>\n",
       "    </tr>\n",
       "    <tr>\n",
       "      <th>35</th>\n",
       "      <td>Svante August Arrhenius REE nee əs Swedish ˈsv...</td>\n",
       "      <td>Chemistry</td>\n",
       "      <td>0</td>\n",
       "      <td>test</td>\n",
       "    </tr>\n",
       "    <tr>\n",
       "      <th>36</th>\n",
       "      <td>Melvin Ellis Calvin April 8 1911 January 8 199...</td>\n",
       "      <td>Chemistry</td>\n",
       "      <td>0</td>\n",
       "      <td>test</td>\n",
       "    </tr>\n",
       "    <tr>\n",
       "      <th>37</th>\n",
       "      <td>Glenn Theodore Seaborg SEE borg April 19 1912 ...</td>\n",
       "      <td>Chemistry</td>\n",
       "      <td>0</td>\n",
       "      <td>test</td>\n",
       "    </tr>\n",
       "    <tr>\n",
       "      <th>38</th>\n",
       "      <td>Charles Thomson Rees Wilson 14 February 1869 1...</td>\n",
       "      <td>Physics</td>\n",
       "      <td>1</td>\n",
       "      <td>test</td>\n",
       "    </tr>\n",
       "    <tr>\n",
       "      <th>39</th>\n",
       "      <td>In chemistry Svedberg unit or svedberg symbol ...</td>\n",
       "      <td>Chemistry</td>\n",
       "      <td>0</td>\n",
       "      <td>test</td>\n",
       "    </tr>\n",
       "  </tbody>\n",
       "</table>\n",
       "</div>"
      ],
      "text/plain": [
       "                                                 text target_category  \\\n",
       "0   Adolf Friedrich Johann Butenandt German pronun...       Chemistry   \n",
       "1   Victor Franz Hess German ˈvɪktoːɐ̯ fʁants ˈhɛs...         Physics   \n",
       "2   Reona Esaki 江崎 玲於奈 Esaki Reona born March 12 1...         Physics   \n",
       "3   Ivar Giaever Norwegian Giæver IPA ˈìːvɑr ˈjèːv...         Physics   \n",
       "4   Adolf Otto Reinhold Windaus German pronunciati...       Chemistry   \n",
       "5   Pierre Curie KURE ee French pjɛʁ kyʁi 15 May 1...         Physics   \n",
       "6   Irving Langmuir January 31 1881 August 16 1957...       Chemistry   \n",
       "7   Nikolay Gennadiyevich Basov Russian Никола́й Г...         Physics   \n",
       "8   Willis Eugene Lamb Jr. July 12 1913 May 15 200...         Physics   \n",
       "9   Vladimir Prelog 23 July 1906 7 January 1998 wa...       Chemistry   \n",
       "10  Philipp Eduard Anton von Lenard German pronunc...         Physics   \n",
       "11  Brian David Josephson born 4 January 1940 is B...         Physics   \n",
       "12  Hermann Emil Louis Fischer German pronunciatio...       Chemistry   \n",
       "13  Karl Manne Georg Siegbahn FRS(For HFRSE 3 Dece...         Physics   \n",
       "14  Georg Wittig German ˈɡeː.ɔʁk ˈvɪ.tɪç 16 June 1...       Chemistry   \n",
       "15  Richard Martin Willstätter FRS(For HFRSE Germa...       Chemistry   \n",
       "16  Emilio Gino Segrè Italian seˈgrɛ 1 February 19...         Physics   \n",
       "17  Archer John Porter Martin 1 March 1910 28 July...       Chemistry   \n",
       "18  William Nunn Lipscomb Jr. December 9 1919 Apri...       Chemistry   \n",
       "19  Louis Victor Pierre Raymond 7th Duc de Broglie...         Physics   \n",
       "20  Manfred Eigen German pronunciation ˈmanˌfʁeːt ...       Chemistry   \n",
       "21  Isidor Isaac Rabi born Israel Isaac Rabi July ...         Physics   \n",
       "22  Johannes Stark German pronunciation joˈhanəs ʃ...         Physics   \n",
       "23  John William Strutt 3rd Baron Rayleigh 12 Nove...         Physics   \n",
       "24  Sir George Paget Thomson FRS 3 May 1892 10 Sep...         Physics   \n",
       "25  Owen Chamberlain July 10 1920 February 28 2006...         Physics   \n",
       "26  Guglielmo Giovanni Maria Marconi 1st Marquis o...         Physics   \n",
       "27  Paul John Flory June 19 1910 September 9 1985 ...       Chemistry   \n",
       "28  Sir Owen Willans Richardson FRS 26 April 1879 ...         Physics   \n",
       "29  Richard Adolf Zsigmondy Hungarian Zsigmondy Ri...       Chemistry   \n",
       "30  Werner Karl Heisenberg pronounced ˈvɛʁnɐ kaʁl ...         Physics   \n",
       "31  Paul Berg June 30 1926 February 15 2023 was an...       Chemistry   \n",
       "32  Lars Onsager November 27 1903 October 5 1976 w...       Chemistry   \n",
       "33  Ernst Otto Fischer German pronunciation ˈɛʁnst...       Chemistry   \n",
       "34  Frederick Sanger 13 August 1918 19 November 20...       Chemistry   \n",
       "35  Svante August Arrhenius REE nee əs Swedish ˈsv...       Chemistry   \n",
       "36  Melvin Ellis Calvin April 8 1911 January 8 199...       Chemistry   \n",
       "37  Glenn Theodore Seaborg SEE borg April 19 1912 ...       Chemistry   \n",
       "38  Charles Thomson Rees Wilson 14 February 1869 1...         Physics   \n",
       "39  In chemistry Svedberg unit or svedberg symbol ...       Chemistry   \n",
       "\n",
       "    predicted_category data_split  \n",
       "0                    0       test  \n",
       "1                    1       test  \n",
       "2                    1       test  \n",
       "3                    1       test  \n",
       "4                    0       test  \n",
       "5                    1       test  \n",
       "6                    0       test  \n",
       "7                    1       test  \n",
       "8                    1       test  \n",
       "9                    0       test  \n",
       "10                   1       test  \n",
       "11                   1       test  \n",
       "12                   0       test  \n",
       "13                   1       test  \n",
       "14                   0       test  \n",
       "15                   0       test  \n",
       "16                   1       test  \n",
       "17                   0       test  \n",
       "18                   0       test  \n",
       "19                   1       test  \n",
       "20                   0       test  \n",
       "21                   1       test  \n",
       "22                   1       test  \n",
       "23                   1       test  \n",
       "24                   1       test  \n",
       "25                   1       test  \n",
       "26                   1       test  \n",
       "27                   0       test  \n",
       "28                   1       test  \n",
       "29                   0       test  \n",
       "30                   1       test  \n",
       "31                   0       test  \n",
       "32                   0       test  \n",
       "33                   0       test  \n",
       "34                   0       test  \n",
       "35                   0       test  \n",
       "36                   0       test  \n",
       "37                   0       test  \n",
       "38                   1       test  \n",
       "39                   0       test  "
      ]
     },
     "execution_count": 144,
     "metadata": {},
     "output_type": "execute_result"
    }
   ],
   "source": [
    "cluster_df[cluster_df[\"data_split\"] == \"test\"]"
   ]
  },
  {
   "cell_type": "code",
   "execution_count": 145,
   "metadata": {},
   "outputs": [],
   "source": [
    "label_dictionary = {0:\"Chemistry\", 1:\"Physics\"}"
   ]
  },
  {
   "cell_type": "code",
   "execution_count": 146,
   "metadata": {},
   "outputs": [],
   "source": [
    "cluster_df = cluster_df.replace(label_dictionary)"
   ]
  },
  {
   "cell_type": "code",
   "execution_count": 149,
   "metadata": {},
   "outputs": [
    {
     "data": {
      "text/html": [
       "<div>\n",
       "<style scoped>\n",
       "    .dataframe tbody tr th:only-of-type {\n",
       "        vertical-align: middle;\n",
       "    }\n",
       "\n",
       "    .dataframe tbody tr th {\n",
       "        vertical-align: top;\n",
       "    }\n",
       "\n",
       "    .dataframe thead th {\n",
       "        text-align: right;\n",
       "    }\n",
       "</style>\n",
       "<table border=\"1\" class=\"dataframe\">\n",
       "  <thead>\n",
       "    <tr style=\"text-align: right;\">\n",
       "      <th></th>\n",
       "      <th>text</th>\n",
       "      <th>target_category</th>\n",
       "      <th>predicted_category</th>\n",
       "      <th>data_split</th>\n",
       "    </tr>\n",
       "  </thead>\n",
       "  <tbody>\n",
       "    <tr>\n",
       "      <th>2</th>\n",
       "      <td>Gerhard Heinrich Friedrich Otto Julius Herzber...</td>\n",
       "      <td>Chemistry</td>\n",
       "      <td>Physics</td>\n",
       "      <td>train</td>\n",
       "    </tr>\n",
       "    <tr>\n",
       "      <th>15</th>\n",
       "      <td>Ernest Rutherford 1st Baron Rutherford of Nels...</td>\n",
       "      <td>Chemistry</td>\n",
       "      <td>Physics</td>\n",
       "      <td>train</td>\n",
       "    </tr>\n",
       "    <tr>\n",
       "      <th>58</th>\n",
       "      <td>Sir Aaron Klug 11 August 1926 20 November 2018...</td>\n",
       "      <td>Chemistry</td>\n",
       "      <td>Physics</td>\n",
       "      <td>train</td>\n",
       "    </tr>\n",
       "    <tr>\n",
       "      <th>63</th>\n",
       "      <td>Edwin Mattison McMillan September 18 1907 Sept...</td>\n",
       "      <td>Chemistry</td>\n",
       "      <td>Physics</td>\n",
       "      <td>train</td>\n",
       "    </tr>\n",
       "    <tr>\n",
       "      <th>70</th>\n",
       "      <td>Viscount Ilya Romanovich Prigogine Russian Иль...</td>\n",
       "      <td>Chemistry</td>\n",
       "      <td>Physics</td>\n",
       "      <td>train</td>\n",
       "    </tr>\n",
       "    <tr>\n",
       "      <th>81</th>\n",
       "      <td>Peter Joseph William Debye Dutch dəˈbɛiə March...</td>\n",
       "      <td>Chemistry</td>\n",
       "      <td>Physics</td>\n",
       "      <td>train</td>\n",
       "    </tr>\n",
       "    <tr>\n",
       "      <th>88</th>\n",
       "      <td>Walter Gilbert born March 21 1932 is an Americ...</td>\n",
       "      <td>Chemistry</td>\n",
       "      <td>Physics</td>\n",
       "      <td>train</td>\n",
       "    </tr>\n",
       "    <tr>\n",
       "      <th>159</th>\n",
       "      <td>Maria Salomea Skłodowska Curie Polish ˈmarja s...</td>\n",
       "      <td>Physics</td>\n",
       "      <td>Chemistry</td>\n",
       "      <td>train</td>\n",
       "    </tr>\n",
       "  </tbody>\n",
       "</table>\n",
       "</div>"
      ],
      "text/plain": [
       "                                                  text target_category  \\\n",
       "2    Gerhard Heinrich Friedrich Otto Julius Herzber...       Chemistry   \n",
       "15   Ernest Rutherford 1st Baron Rutherford of Nels...       Chemistry   \n",
       "58   Sir Aaron Klug 11 August 1926 20 November 2018...       Chemistry   \n",
       "63   Edwin Mattison McMillan September 18 1907 Sept...       Chemistry   \n",
       "70   Viscount Ilya Romanovich Prigogine Russian Иль...       Chemistry   \n",
       "81   Peter Joseph William Debye Dutch dəˈbɛiə March...       Chemistry   \n",
       "88   Walter Gilbert born March 21 1932 is an Americ...       Chemistry   \n",
       "159  Maria Salomea Skłodowska Curie Polish ˈmarja s...         Physics   \n",
       "\n",
       "    predicted_category data_split  \n",
       "2              Physics      train  \n",
       "15             Physics      train  \n",
       "58             Physics      train  \n",
       "63             Physics      train  \n",
       "70             Physics      train  \n",
       "81             Physics      train  \n",
       "88             Physics      train  \n",
       "159          Chemistry      train  "
      ]
     },
     "execution_count": 149,
     "metadata": {},
     "output_type": "execute_result"
    }
   ],
   "source": [
    "cluster_df[cluster_df[\"target_category\"] != cluster_df[\"predicted_category\"]]"
   ]
  },
  {
   "cell_type": "markdown",
   "metadata": {},
   "source": [
    "### Metrics"
   ]
  },
  {
   "cell_type": "code",
   "execution_count": 151,
   "metadata": {},
   "outputs": [
    {
     "data": {
      "text/plain": [
       "array(['Chemistry', 'Physics', 'Physics', 'Physics', 'Chemistry',\n",
       "       'Physics', 'Chemistry', 'Physics', 'Physics', 'Chemistry',\n",
       "       'Physics', 'Physics', 'Chemistry', 'Physics', 'Chemistry',\n",
       "       'Chemistry', 'Physics', 'Chemistry', 'Chemistry', 'Physics',\n",
       "       'Chemistry', 'Physics', 'Physics', 'Physics', 'Physics', 'Physics',\n",
       "       'Physics', 'Chemistry', 'Physics', 'Chemistry', 'Physics',\n",
       "       'Chemistry', 'Chemistry', 'Chemistry', 'Chemistry', 'Chemistry',\n",
       "       'Chemistry', 'Chemistry', 'Physics', 'Chemistry'], dtype=object)"
      ]
     },
     "execution_count": 151,
     "metadata": {},
     "output_type": "execute_result"
    }
   ],
   "source": [
    "y_test"
   ]
  },
  {
   "cell_type": "code",
   "execution_count": 152,
   "metadata": {},
   "outputs": [
    {
     "data": {
      "text/plain": [
       "array([0, 1, 1, 1, 0, 1, 0, 1, 1, 0, 1, 1, 0, 1, 0, 0, 1, 0, 0, 1, 0, 1,\n",
       "       1, 1, 1, 1, 1, 0, 1, 0, 1, 0, 0, 0, 0, 0, 0, 0, 1, 0])"
      ]
     },
     "execution_count": 152,
     "metadata": {},
     "output_type": "execute_result"
    }
   ],
   "source": [
    "y_pred"
   ]
  },
  {
   "cell_type": "code",
   "execution_count": 160,
   "metadata": {},
   "outputs": [],
   "source": [
    "y_pred = list(map(lambda x: x.replace(\"Chemistry\",\"0\").replace(\"Physics\",\"1\"), y_test))\n",
    "y_test = np.array(y_test).astype(int)"
   ]
  },
  {
   "cell_type": "code",
   "execution_count": 161,
   "metadata": {},
   "outputs": [
    {
     "data": {
      "text/plain": [
       "array([0, 1, 1, 1, 0, 1, 0, 1, 1, 0, 1, 1, 0, 1, 0, 0, 1, 0, 0, 1, 0, 1,\n",
       "       1, 1, 1, 1, 1, 0, 1, 0, 1, 0, 0, 0, 0, 0, 0, 0, 1, 0])"
      ]
     },
     "execution_count": 161,
     "metadata": {},
     "output_type": "execute_result"
    }
   ],
   "source": [
    "y_test"
   ]
  },
  {
   "cell_type": "code",
   "execution_count": 162,
   "metadata": {},
   "outputs": [
    {
     "name": "stdout",
     "output_type": "stream",
     "text": [
      "Homogeneity: 1.000\n",
      "Completeness: 1.000\n",
      "V-measure: 1.000\n",
      "Adjusted Rand-Index: 1.000\n"
     ]
    }
   ],
   "source": [
    "from sklearn import metrics\n",
    "\n",
    "print(\"Homogeneity: %0.3f\" % metrics.homogeneity_score(y_pred, y_pred))\n",
    "print(\"Completeness: %0.3f\" % metrics.completeness_score(y_pred, y_pred))\n",
    "print(\"V-measure: %0.3f\" % metrics.v_measure_score(y_pred, y_pred))\n",
    "print(\"Adjusted Rand-Index: %.3f\"% metrics.adjusted_rand_score(y_pred, y_pred))\n"
   ]
  }
 ],
 "metadata": {
  "kernelspec": {
   "display_name": "Python 3",
   "language": "python",
   "name": "python3"
  },
  "language_info": {
   "codemirror_mode": {
    "name": "ipython",
    "version": 3
   },
   "file_extension": ".py",
   "mimetype": "text/x-python",
   "name": "python",
   "nbconvert_exporter": "python",
   "pygments_lexer": "ipython3",
   "version": "3.12.0"
  }
 },
 "nbformat": 4,
 "nbformat_minor": 2
}
