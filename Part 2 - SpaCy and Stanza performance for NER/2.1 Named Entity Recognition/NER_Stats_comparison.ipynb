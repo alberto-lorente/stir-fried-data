{
 "cells": [
  {
   "cell_type": "code",
   "execution_count": 1,
   "metadata": {},
   "outputs": [],
   "source": [
    "import pandas as pd\n",
    "import matplotlib.pyplot as plt\n",
    "import os\n",
    "import numpy as np"
   ]
  },
  {
   "cell_type": "code",
   "execution_count": 2,
   "metadata": {},
   "outputs": [],
   "source": [
    "path = os.getcwd()\n",
    "data_dir_spacy = os.path.join(path, \"df_entities_spacy.csv\")\n",
    "data_dir_stanza = os.path.join(path, \"df_entities_stanza.csv\")\n",
    "\n",
    "df_spacy = pd.read_csv(data_dir_spacy)\n",
    "df_stanza= pd.read_csv(data_dir_stanza)"
   ]
  },
  {
   "cell_type": "markdown",
   "metadata": {},
   "source": [
    "## Statistics for each package"
   ]
  },
  {
   "cell_type": "code",
   "execution_count": 3,
   "metadata": {},
   "outputs": [],
   "source": [
    "# separating by category for the spacy package\n",
    "df_spacy_chemistry = df_spacy[df_spacy[\"category\"] == \"Chemistry\"]\n",
    "df_spacy_physics = df_spacy[df_spacy[\"category\"] == \"Physics\"]"
   ]
  },
  {
   "cell_type": "code",
   "execution_count": 4,
   "metadata": {},
   "outputs": [],
   "source": [
    "# separating by category for the stanza package\n",
    "df_stanza_chemistry = df_stanza[df_stanza[\"category\"] == \"Chemistry\"]\n",
    "df_stanza_physics = df_stanza[df_stanza[\"category\"] == \"Physics\"]"
   ]
  },
  {
   "cell_type": "code",
   "execution_count": 5,
   "metadata": {},
   "outputs": [],
   "source": [
    "# Function to calculate avg/min/max number of NEs per biography\n",
    "\n",
    "def calculate_ne_stats(df):\n",
    "    ne_counts = df.groupby('subject')['text'].count()\n",
    "    return ne_counts.agg(['mean', 'min', 'max'])"
   ]
  },
  {
   "cell_type": "code",
   "execution_count": 6,
   "metadata": {},
   "outputs": [],
   "source": [
    "# Get statistics for spaCy by biography\n",
    "spacy_ne_stats_phy = calculate_ne_stats(df_spacy_physics)\n",
    "spacy_ne_stats_che = calculate_ne_stats(df_spacy_chemistry)\n",
    "\n",
    "# stats for number of words per entity for spaCy\n",
    "spacy_word_stats_phy = df_spacy_physics['n_word'].agg(['mean', 'min', 'max'])\n",
    "spacy_word_stats_che = df_spacy_chemistry['n_word'].agg(['mean', 'min', 'max'])\n",
    "\n",
    "# Get statistics for Stanza by biography\n",
    "stanza_ne_stats_phy = calculate_ne_stats(df_stanza_physics)\n",
    "stanza_ne_stats_che = calculate_ne_stats(df_stanza_chemistry)\n",
    "\n",
    "# stats for number of words per entity for spaCy\n",
    "stanza_word_stats_phy = df_stanza_physics['n_word'].agg(['mean', 'min', 'max'])\n",
    "stanza_word_stats_che = df_stanza_chemistry['n_word'].agg(['mean', 'min', 'max'])"
   ]
  },
  {
   "cell_type": "markdown",
   "metadata": {},
   "source": [
    "### SpaCy"
   ]
  },
  {
   "cell_type": "markdown",
   "metadata": {},
   "source": [
    "#### Entities per biography"
   ]
  },
  {
   "cell_type": "markdown",
   "metadata": {},
   "source": [
    "##### Chemistry"
   ]
  },
  {
   "cell_type": "code",
   "execution_count": 7,
   "metadata": {},
   "outputs": [
    {
     "name": "stdout",
     "output_type": "stream",
     "text": [
      "\n",
      "Statistics for SpaCy NERs by biography in the Chemistry category:\n",
      " mean     216.17\n",
      "min       37.00\n",
      "max     1466.00\n",
      "Name: text, dtype: float64\n"
     ]
    }
   ],
   "source": [
    "# mean number of entities in bios, min number of entities in a bio, max number of entities in a bio\n",
    "print(\"\\nStatistics for SpaCy NERs by biography in the Chemistry category:\\n\", spacy_ne_stats_che)"
   ]
  },
  {
   "cell_type": "code",
   "execution_count": 8,
   "metadata": {},
   "outputs": [
    {
     "name": "stdout",
     "output_type": "stream",
     "text": [
      "Chemistry People with the min. number of entities in their biography:\n",
      "  The Svedberg\n",
      "Chemistry People with the max. number of entities in their biography:\n",
      "  Otto Hahn\n"
     ]
    }
   ],
   "source": [
    "print(\"Chemistry People with the min. number of entities in their biography:\")\n",
    "for person in list(np.unique(df_spacy_chemistry[\"subject\"])):\n",
    "    length = len(df_spacy_chemistry[df_spacy_chemistry[\"subject\"] == person])\n",
    "    if length <= 37.00:\n",
    "        print(\" \", person)\n",
    "\n",
    "print(\"Chemistry People with the max. number of entities in their biography:\")\n",
    "for person in list(np.unique(df_spacy_chemistry[\"subject\"])):\n",
    "    length = len(df_spacy_chemistry[df_spacy_chemistry[\"subject\"] == person])\n",
    "    if length >= 1466.00:\n",
    "        print(\" \", person)"
   ]
  },
  {
   "cell_type": "markdown",
   "metadata": {},
   "source": [
    "##### Physics"
   ]
  },
  {
   "cell_type": "code",
   "execution_count": 9,
   "metadata": {},
   "outputs": [
    {
     "name": "stdout",
     "output_type": "stream",
     "text": [
      "Statistics for SpaCy NERs by biography in the Physics category:\n",
      " mean     382.54\n",
      "min       79.00\n",
      "max     1762.00\n",
      "Name: text, dtype: float64\n"
     ]
    }
   ],
   "source": [
    "# mean number of entities in bios, min number of entities in a bio, max number of entities in a bio\n",
    "print(\"Statistics for SpaCy NERs by biography in the Physics category:\\n\", spacy_ne_stats_phy)"
   ]
  },
  {
   "cell_type": "code",
   "execution_count": 10,
   "metadata": {},
   "outputs": [
    {
     "name": "stdout",
     "output_type": "stream",
     "text": [
      "Physics People with the min. number of entities in their biography:\n",
      "  Manne Siegbahn\n",
      "Physics People with the max. number of entities in their biography:\n",
      "  Richard Feynman\n"
     ]
    }
   ],
   "source": [
    "print(\"Physics People with the min. number of entities in their biography:\")\n",
    "for person in list(np.unique(df_spacy_physics[\"subject\"])):\n",
    "    length = len(df_spacy_physics[df_spacy_physics[\"subject\"] == person])\n",
    "    if length <= 79.00:\n",
    "        print(\" \", person)\n",
    "\n",
    "print(\"Physics People with the max. number of entities in their biography:\")\n",
    "for person in list(np.unique(df_spacy_physics[\"subject\"])):\n",
    "    length = len(df_spacy_physics[df_spacy_physics[\"subject\"] == person])\n",
    "    if length >= 1762.00:\n",
    "        print(\" \", person)"
   ]
  },
  {
   "cell_type": "markdown",
   "metadata": {},
   "source": [
    "#### Number of words per entity"
   ]
  },
  {
   "cell_type": "markdown",
   "metadata": {},
   "source": [
    "##### Chemistry"
   ]
  },
  {
   "cell_type": "code",
   "execution_count": 11,
   "metadata": {},
   "outputs": [
    {
     "name": "stdout",
     "output_type": "stream",
     "text": [
      "\n",
      "Statistics for SpaCy NERs by number of words in the Chemistry category:\n",
      " mean     1.902947\n",
      "min      1.000000\n",
      "max     16.000000\n",
      "Name: n_word, dtype: float64\n"
     ]
    }
   ],
   "source": [
    "# mean number of words, min number of words in an entity, max number of words in an entity\n",
    "print(\"\\nStatistics for SpaCy NERs by number of words in the Chemistry category:\\n\", spacy_word_stats_che)"
   ]
  },
  {
   "cell_type": "code",
   "execution_count": 12,
   "metadata": {},
   "outputs": [],
   "source": [
    "min_words = set(df_spacy_chemistry[df_spacy_chemistry[\"n_word\"] <= 1][\"text\"].to_list())\n",
    "max_words = set(df_spacy_chemistry[df_spacy_chemistry[\"n_word\"] >= 16][\"text\"].to_list())"
   ]
  },
  {
   "cell_type": "code",
   "execution_count": 13,
   "metadata": {},
   "outputs": [],
   "source": [
    "# min_words # as expected, there are a lot of 1-word entities"
   ]
  },
  {
   "cell_type": "code",
   "execution_count": 14,
   "metadata": {},
   "outputs": [
    {
     "name": "stdout",
     "output_type": "stream",
     "text": [
      "Longest entity in the Chemistry category:\n",
      "the National Committee of the Union of French Women (Comité National de l'Union des Femmes Françaises\n"
     ]
    }
   ],
   "source": [
    "print(\"Longest entity in the Chemistry category:\")\n",
    "for ent in max_words:\n",
    "    print(ent)"
   ]
  },
  {
   "cell_type": "markdown",
   "metadata": {},
   "source": [
    "##### Physics"
   ]
  },
  {
   "cell_type": "code",
   "execution_count": 15,
   "metadata": {},
   "outputs": [
    {
     "name": "stdout",
     "output_type": "stream",
     "text": [
      "Statistics for SpaCy NERs by number of words in the Physics category:\n",
      " mean     1.87583\n",
      "min      1.00000\n",
      "max     19.00000\n",
      "Name: n_word, dtype: float64\n"
     ]
    }
   ],
   "source": [
    "# mean number of words, min number of words in an entity, max number of words in an entity\n",
    "print(\"Statistics for SpaCy NERs by number of words in the Physics category:\\n\", spacy_word_stats_phy)"
   ]
  },
  {
   "cell_type": "code",
   "execution_count": 16,
   "metadata": {},
   "outputs": [],
   "source": [
    "min_words = set(df_spacy_physics[df_spacy_physics[\"n_word\"] <= 1][\"text\"].to_list())\n",
    "max_words = set(df_spacy_physics[df_spacy_physics[\"n_word\"] >= 16][\"text\"].to_list())"
   ]
  },
  {
   "cell_type": "code",
   "execution_count": 17,
   "metadata": {},
   "outputs": [],
   "source": [
    "# min_words # as expected, there are a lot of 1-word entities"
   ]
  },
  {
   "cell_type": "code",
   "execution_count": 18,
   "metadata": {},
   "outputs": [
    {
     "name": "stdout",
     "output_type": "stream",
     "text": [
      "Longest entity in the Physics category:\n",
      "The Man Who Stalked Einstein: How Nazi Scientist Philipp Lenard Changed the Course of History by Bruce J. Hillman\n",
      "On the Absorption of α Rays and on the Classification of the α Rays from Radium\n",
      "On the Structure of the Atom: an Investigation of the Stability and Periods of Oscillation of a number\n",
      "1\n",
      "      \n",
      "    \n",
      "    {\\displaystyle N-N'={\\frac\n"
     ]
    }
   ],
   "source": [
    "print(\"Longest entity in the Physics category:\")\n",
    "for ent in max_words:\n",
    "    print(ent)"
   ]
  },
  {
   "cell_type": "markdown",
   "metadata": {},
   "source": [
    "### Stanza"
   ]
  },
  {
   "cell_type": "markdown",
   "metadata": {},
   "source": [
    "#### Entities per biography"
   ]
  },
  {
   "cell_type": "markdown",
   "metadata": {},
   "source": [
    "##### Chemistry"
   ]
  },
  {
   "cell_type": "code",
   "execution_count": 19,
   "metadata": {},
   "outputs": [
    {
     "name": "stdout",
     "output_type": "stream",
     "text": [
      "\n",
      "Statistics for Stanza NERs by biography in the Chemistry category:\n",
      " mean     215.71\n",
      "min       25.00\n",
      "max     1505.00\n",
      "Name: text, dtype: float64\n"
     ]
    }
   ],
   "source": [
    "# mean number of entities in bios, min number of entities in a bio, max number of entities in a bio\n",
    "print(\"\\nStatistics for Stanza NERs by biography in the Chemistry category:\\n\", stanza_ne_stats_che)"
   ]
  },
  {
   "cell_type": "code",
   "execution_count": 20,
   "metadata": {},
   "outputs": [
    {
     "name": "stdout",
     "output_type": "stream",
     "text": [
      "Chemistry People with the min. number of entities in their biography:\n",
      "  The Svedberg\n",
      "Chemistry People with the max. number of entities in their biography:\n",
      "  Otto Hahn\n"
     ]
    }
   ],
   "source": [
    "print(\"Chemistry People with the min. number of entities in their biography:\")\n",
    "for person in list(np.unique(df_stanza_chemistry[\"subject\"])):\n",
    "    length = len(df_stanza_chemistry[df_stanza_chemistry[\"subject\"] == person])\n",
    "    if length <= 25.00:\n",
    "        print(\" \", person)\n",
    "\n",
    "print(\"Chemistry People with the max. number of entities in their biography:\")\n",
    "for person in list(np.unique(df_stanza_chemistry[\"subject\"])):\n",
    "    length = len(df_stanza_chemistry[df_stanza_chemistry[\"subject\"] == person])\n",
    "    if length >= 1505.00:\n",
    "        print(\" \", person)"
   ]
  },
  {
   "cell_type": "markdown",
   "metadata": {},
   "source": [
    "##### Physics"
   ]
  },
  {
   "cell_type": "code",
   "execution_count": 21,
   "metadata": {},
   "outputs": [
    {
     "name": "stdout",
     "output_type": "stream",
     "text": [
      "Statistics for Stanza NERs by biography in the Physics category:\n",
      " mean     382.09\n",
      "min       79.00\n",
      "max     1712.00\n",
      "Name: text, dtype: float64\n"
     ]
    }
   ],
   "source": [
    "# mean number of entities in bios, min number of entities in a bio, max number of entities in a bio\n",
    "print(\"Statistics for Stanza NERs by biography in the Physics category:\\n\", stanza_ne_stats_phy)"
   ]
  },
  {
   "cell_type": "code",
   "execution_count": 22,
   "metadata": {},
   "outputs": [
    {
     "name": "stdout",
     "output_type": "stream",
     "text": [
      "Physics People with the min. number of entities in their biography:\n",
      "  Pavel Cherenkov\n",
      "Physics People with the max. number of entities in their biography:\n",
      "  Richard Feynman\n"
     ]
    }
   ],
   "source": [
    "print(\"Physics People with the min. number of entities in their biography:\")\n",
    "for person in list(np.unique(df_stanza_physics[\"subject\"])):\n",
    "    length = len(df_stanza_physics[df_stanza_physics[\"subject\"] == person])\n",
    "    if length <= 79.00:\n",
    "        print(\" \", person)\n",
    "\n",
    "print(\"Physics People with the max. number of entities in their biography:\")\n",
    "for person in list(np.unique(df_stanza_physics[\"subject\"])):\n",
    "    length = len(df_stanza_physics[df_stanza_physics[\"subject\"] == person])\n",
    "    if length >= 1712.00:\n",
    "        print(\" \", person)"
   ]
  },
  {
   "cell_type": "markdown",
   "metadata": {},
   "source": [
    "#### Number of words per entity"
   ]
  },
  {
   "cell_type": "markdown",
   "metadata": {},
   "source": [
    "#####   Chemistry"
   ]
  },
  {
   "cell_type": "code",
   "execution_count": 23,
   "metadata": {},
   "outputs": [
    {
     "name": "stdout",
     "output_type": "stream",
     "text": [
      "\n",
      "Statistics for Stanza NERs by number of words in the Chemistry category:\n",
      " mean     1.978211\n",
      "min      1.000000\n",
      "max     32.000000\n",
      "Name: n_word, dtype: float64\n"
     ]
    }
   ],
   "source": [
    "# mean number of words, min number of words in an entity, max number of words in an entity\n",
    "print(\"\\nStatistics for Stanza NERs by number of words in the Chemistry category:\\n\", stanza_word_stats_che)"
   ]
  },
  {
   "cell_type": "code",
   "execution_count": 24,
   "metadata": {},
   "outputs": [],
   "source": [
    "min_words = set(df_stanza_chemistry[df_stanza_chemistry[\"n_word\"] <= 1][\"text\"].to_list())\n",
    "max_words = set(df_stanza_chemistry[df_stanza_chemistry[\"n_word\"] >= 32][\"text\"].to_list())"
   ]
  },
  {
   "cell_type": "code",
   "execution_count": 25,
   "metadata": {},
   "outputs": [],
   "source": [
    "# min_words # as expected, there are a lot of 1-word entities"
   ]
  },
  {
   "cell_type": "code",
   "execution_count": 26,
   "metadata": {},
   "outputs": [
    {
     "name": "stdout",
     "output_type": "stream",
     "text": [
      "Longest entities in the Chemistry category:\n",
      "Some Problems Relating to Chain Reactions and to the Theory of Combustion\n",
      "Semyonov's  Nobel Lecture Some Problems Relating to Chain Reactions and to the Theory of Combustion\n",
      "N.N. Semenov Institute of Chemical Physics\n"
     ]
    }
   ],
   "source": [
    "print(\"Longest entities in the Chemistry category:\")\n",
    "for ent in max_words:\n",
    "    print(ent)"
   ]
  },
  {
   "cell_type": "markdown",
   "metadata": {},
   "source": [
    "#####   Physics"
   ]
  },
  {
   "cell_type": "code",
   "execution_count": 27,
   "metadata": {},
   "outputs": [
    {
     "name": "stdout",
     "output_type": "stream",
     "text": [
      "Statistics for Stanza NERs by number of words in the Physics category:\n",
      " mean     1.970635\n",
      "min      1.000000\n",
      "max     50.000000\n",
      "Name: n_word, dtype: float64\n"
     ]
    }
   ],
   "source": [
    "# mean number of words, min number of words in an entity, max number of words in an entity\n",
    "print(\"Statistics for Stanza NERs by number of words in the Physics category:\\n\", stanza_word_stats_phy)"
   ]
  },
  {
   "cell_type": "code",
   "execution_count": 28,
   "metadata": {},
   "outputs": [],
   "source": [
    "min_words = set(df_stanza_physics[df_stanza_physics[\"n_word\"] <= 1][\"text\"].to_list())\n",
    "max_words = set(df_stanza_physics[df_stanza_physics[\"n_word\"] >= 50][\"text\"].to_list())"
   ]
  },
  {
   "cell_type": "code",
   "execution_count": 29,
   "metadata": {},
   "outputs": [],
   "source": [
    "# min_words # as expected, there are a lot of 1-word entities"
   ]
  },
  {
   "cell_type": "code",
   "execution_count": 30,
   "metadata": {},
   "outputs": [
    {
     "name": "stdout",
     "output_type": "stream",
     "text": [
      "Longest entities in the Physics category:\n",
      "Jubilee Medal \"Forty Years of Victory in the Great Patriotic War 1941-1945\"\n",
      "Medal \"For Valiant Labour in the Great Patriotic War 1941-1945\"\n",
      "Medal \"Veteran of Labour\"\n",
      "Jubilee Medal \"50 Years of the Armed Forces of the USSR\"\n",
      "Medal \"In Commemoration of the 800th Anniversary of Moscow\"\n",
      "Medal \"In Commemoration of the 850th Anniversary of Moscow\"\n"
     ]
    }
   ],
   "source": [
    "print(\"Longest entities in the Physics category:\")\n",
    "for ent in max_words:\n",
    "    print(ent)"
   ]
  },
  {
   "cell_type": "markdown",
   "metadata": {},
   "source": [
    "## Visualizations"
   ]
  },
  {
   "cell_type": "code",
   "execution_count": 31,
   "metadata": {},
   "outputs": [
    {
     "data": {
      "image/png": "[encoded data removed]",
      "text/plain": [
       "<Figure size 1500x1000 with 4 Axes>"
      ]
     },
     "metadata": {},
     "output_type": "display_data"
    }
   ],
   "source": [
    "fig, axes = plt.subplots(2, 2, figsize=(15, 10))\n",
    "\n",
    "# Avg/Min/Max number of NEs per category per package\n",
    "spacy_ne_stats = pd.DataFrame({\n",
    "    'Physics': spacy_ne_stats_phy,\n",
    "    'Chemistry': spacy_ne_stats_che\n",
    "})\n",
    "stanza_ne_stats = pd.DataFrame({\n",
    "    'Physics': stanza_ne_stats_phy,\n",
    "    'Chemistry': stanza_ne_stats_che\n",
    "})\n",
    "\n",
    "# Plot number of NEs\n",
    "spacy_ne_stats.plot(kind='bar', ax=axes[0, 0], title='spaCy: Number of NEs per Category')\n",
    "stanza_ne_stats.plot(kind='bar', ax=axes[0, 1], title='Stanza: Number of NEs per Category')\n",
    "\n",
    "# Avg/Min/Max number of words in each NE per category per package\n",
    "spacy_word_stats = pd.DataFrame({\n",
    "    'Physics': spacy_word_stats_phy,\n",
    "    'Chemistry': spacy_word_stats_che\n",
    "})\n",
    "stanza_word_stats = pd.DataFrame({\n",
    "    'Physics': stanza_word_stats_phy,\n",
    "    'Chemistry': stanza_word_stats_che\n",
    "})\n",
    "\n",
    "# Plot number of words in each NE\n",
    "spacy_word_stats.plot(kind='bar', ax=axes[1, 0], title='spaCy: Words in NEs per Category')\n",
    "stanza_word_stats.plot(kind='bar', ax=axes[1, 1], title='Stanza: Words in NEs per Category')\n",
    "\n",
    "# Set plot labels\n",
    "for ax in axes.flat:\n",
    "    ax.set_xlabel('Statistic')\n",
    "    ax.set_ylabel('Count')\n",
    "\n",
    "plt.tight_layout()\n",
    "plt.show()"
   ]
  }
 ],
 "metadata": {
  "kernelspec": {
   "display_name": "Python 3",
   "language": "python",
   "name": "python3"
  },
  "language_info": {
   "codemirror_mode": {
    "name": "ipython",
    "version": 3
   },
   "file_extension": ".py",
   "mimetype": "text/x-python",
   "name": "python",
   "nbconvert_exporter": "python",
   "pygments_lexer": "ipython3",
   "version": "3.12.0"
  }
 },
 "nbformat": 4,
 "nbformat_minor": 2
}
