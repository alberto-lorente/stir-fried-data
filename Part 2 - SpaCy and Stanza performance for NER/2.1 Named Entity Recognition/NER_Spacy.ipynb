{
  "cells": [
    {
      "cell_type": "code",
      "execution_count": 1,
      "metadata": {},
      "outputs": [
        {
          "name": "stderr",
          "output_type": "stream",
          "text": [
            "c:\\Users\\alber\\AppData\\Local\\Programs\\Python\\Python312\\Lib\\site-packages\\tqdm\\auto.py:21: TqdmWarning: IProgress not found. Please update jupyter and ipywidgets. See https://ipywidgets.readthedocs.io/en/stable/user_install.html\n",
            "  from .autonotebook import tqdm as notebook_tqdm\n"
          ]
        }
      ],
      "source": [
        "import os\n",
        "import spacy\n",
        "import pandas as pd\n",
        "\n",
        "nlp = spacy.load(\"en_core_web_sm\")"
      ]
    },
    {
      "cell_type": "code",
      "execution_count": 2,
      "metadata": {},
      "outputs": [
        {
          "data": {
            "text/html": [
              "<div>\n",
              "<style scoped>\n",
              "    .dataframe tbody tr th:only-of-type {\n",
              "        vertical-align: middle;\n",
              "    }\n",
              "\n",
              "    .dataframe tbody tr th {\n",
              "        vertical-align: top;\n",
              "    }\n",
              "\n",
              "    .dataframe thead th {\n",
              "        text-align: right;\n",
              "    }\n",
              "</style>\n",
              "<table border=\"1\" class=\"dataframe\">\n",
              "  <thead>\n",
              "    <tr style=\"text-align: right;\">\n",
              "      <th></th>\n",
              "      <th>year</th>\n",
              "      <th>name</th>\n",
              "      <th>country</th>\n",
              "      <th>category</th>\n",
              "      <th>biography</th>\n",
              "      <th>clean_biography</th>\n",
              "    </tr>\n",
              "  </thead>\n",
              "  <tbody>\n",
              "    <tr>\n",
              "      <th>0</th>\n",
              "      <td>1901</td>\n",
              "      <td>Wilhelm Röntgen</td>\n",
              "      <td>German Empire</td>\n",
              "      <td>Physics</td>\n",
              "      <td>Wilhelm Conrad Röntgen (; German pronunciation...</td>\n",
              "      <td>Wilhelm Conrad Röntgen german pronunciation ˈv...</td>\n",
              "    </tr>\n",
              "    <tr>\n",
              "      <th>1</th>\n",
              "      <td>1902</td>\n",
              "      <td>Hendrik Lorentz</td>\n",
              "      <td>Netherlands</td>\n",
              "      <td>Physics</td>\n",
              "      <td>Hendrik Antoon Lorentz (; 18 July 1853 – 4 Feb...</td>\n",
              "      <td>Hendrik Antoon Lorentz July February dutch phy...</td>\n",
              "    </tr>\n",
              "    <tr>\n",
              "      <th>2</th>\n",
              "      <td>1902</td>\n",
              "      <td>Pieter Zeeman</td>\n",
              "      <td>Netherlands</td>\n",
              "      <td>Physics</td>\n",
              "      <td>Pieter Zeeman (Dutch: [ˈzeːmɑn]; 25 May 1865 –...</td>\n",
              "      <td>Pieter Zeeman Dutch ˈzeːmɑn October dutch phys...</td>\n",
              "    </tr>\n",
              "    <tr>\n",
              "      <th>3</th>\n",
              "      <td>1903</td>\n",
              "      <td>Henri Becquerel</td>\n",
              "      <td>France</td>\n",
              "      <td>Physics</td>\n",
              "      <td>Antoine Henri Becquerel (; French pronunciatio...</td>\n",
              "      <td>Antoine Henri Becquerel french pronunciation b...</td>\n",
              "    </tr>\n",
              "    <tr>\n",
              "      <th>4</th>\n",
              "      <td>1903</td>\n",
              "      <td>Pierre Curie</td>\n",
              "      <td>France</td>\n",
              "      <td>Physics</td>\n",
              "      <td>Pierre Curie ( KURE-ee, French: [pjɛʁ kyʁi]; 1...</td>\n",
              "      <td>Pierre Curie KURE ee French pjɛʁ kyʁi April fr...</td>\n",
              "    </tr>\n",
              "  </tbody>\n",
              "</table>\n",
              "</div>"
            ],
            "text/plain": [
              "   year             name        country category  \\\n",
              "0  1901  Wilhelm Röntgen  German Empire  Physics   \n",
              "1  1902  Hendrik Lorentz    Netherlands  Physics   \n",
              "2  1902    Pieter Zeeman    Netherlands  Physics   \n",
              "3  1903  Henri Becquerel         France  Physics   \n",
              "4  1903     Pierre Curie         France  Physics   \n",
              "\n",
              "                                           biography  \\\n",
              "0  Wilhelm Conrad Röntgen (; German pronunciation...   \n",
              "1  Hendrik Antoon Lorentz (; 18 July 1853 – 4 Feb...   \n",
              "2  Pieter Zeeman (Dutch: [ˈzeːmɑn]; 25 May 1865 –...   \n",
              "3  Antoine Henri Becquerel (; French pronunciatio...   \n",
              "4  Pierre Curie ( KURE-ee, French: [pjɛʁ kyʁi]; 1...   \n",
              "\n",
              "                                     clean_biography  \n",
              "0  Wilhelm Conrad Röntgen german pronunciation ˈv...  \n",
              "1  Hendrik Antoon Lorentz July February dutch phy...  \n",
              "2  Pieter Zeeman Dutch ˈzeːmɑn October dutch phys...  \n",
              "3  Antoine Henri Becquerel french pronunciation b...  \n",
              "4  Pierre Curie KURE ee French pjɛʁ kyʁi April fr...  "
            ]
          },
          "execution_count": 2,
          "metadata": {},
          "output_type": "execute_result"
        }
      ],
      "source": [
        "path = os.getcwd()\n",
        "parent = os.path.dirname(os.path.dirname(path))\n",
        "data_dir = os.path.join(parent,\"Data Directory\", \"physics_and_chemistry_nobel_laureate.csv\")\n",
        "df = pd.read_csv(data_dir)\n",
        "\n",
        "df.head()"
      ]
    },
    {
      "cell_type": "code",
      "execution_count": 3,
      "metadata": {},
      "outputs": [],
      "source": [
        "def extract_ent(text):\n",
        "  if type(text) != str:\n",
        "    return pd.DataFrame()\n",
        "  \n",
        "  # first, get the doc\n",
        "  doc = nlp(text)\n",
        "  entList = []\n",
        "  for ent in doc.ents:\n",
        "        # for each entity we are saving the text, the number of words of the entity, \n",
        "        # the start and ending positions which will be used to check if the spans for Spacy and Stanza entities overlap\n",
        "        # and the NER label\n",
        "    entList.append({\n",
        "      \"text\": ent.text,\n",
        "      \"n_word\": len(ent.text.split(\" \")),\n",
        "      \"start_pos\": ent.start_char,\n",
        "      \"end_pos\": ent.end_char,\n",
        "      \"label\": ent.label_\n",
        "    })\n",
        "    # this information is saved in a df\n",
        "  return pd.DataFrame(entList)"
      ]
    },
    {
      "cell_type": "code",
      "execution_count": 4,
      "metadata": {
        "colab": {
          "base_uri": "https://localhost:8080/"
        },
        "id": "K75F7z0mISB6",
        "outputId": "7b67b49d-e0df-4f67-dc66-1f85ba20dd61"
      },
      "outputs": [],
      "source": [
        "df_entities_spacy = pd.DataFrame()\n",
        "for index, row in df.iterrows():\n",
        "# an empy df is going to be populated with some contextual information (text, category, subject) \n",
        "# as well as the information we get with SpaCy\n",
        "  text = row['biography']\n",
        "  category = row['category']\n",
        "  subject = row[\"name\"]\n",
        "  df_ents = extract_ent(text)\n",
        "  # df_ents['biography'] = text\n",
        "  df_ents['subject'] = subject\n",
        "  df_ents['source_index'] = index\n",
        "  df_ents[\"category\"] = category\n",
        "  # recursively concatinating our master df with the entity df\n",
        "  df_entities_spacy = pd.concat([df_entities_spacy, df_ents], ignore_index = True)"
      ]
    },
    {
      "cell_type": "code",
      "execution_count": 5,
      "metadata": {},
      "outputs": [],
      "source": [
        "# saving the df to make the comparison between SpaCy and Stanza\n",
        "df_path = os.path.join(os.getcwd(), \"df_entities_spacy.csv\")\n",
        "\n",
        "df_entities_spacy.to_csv(df_path, index=False)"
      ]
    }
  ],
  "metadata": {
    "colab": {
      "provenance": []
    },
    "kernelspec": {
      "display_name": "Python 3",
      "name": "python3"
    },
    "language_info": {
      "codemirror_mode": {
        "name": "ipython",
        "version": 3
      },
      "file_extension": ".py",
      "mimetype": "text/x-python",
      "name": "python",
      "nbconvert_exporter": "python",
      "pygments_lexer": "ipython3",
      "version": "3.12.0"
    }
  },
  "nbformat": 4,
  "nbformat_minor": 0
}
