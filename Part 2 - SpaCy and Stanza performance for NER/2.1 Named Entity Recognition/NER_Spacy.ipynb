{
  "cells": [
    {
      "cell_type": "code",
      "execution_count": 227,
      "metadata": {
        "colab": {
          "base_uri": "https://localhost:8080/"
        },
        "id": "POJmPhz4DOyy",
        "outputId": "5fa87d2f-c230-4236-eb9b-08e1d3455431"
      },
      "outputs": [],
      "source": [
        "# !pip install spacy pandas\n",
        "# !python -m spacy download en_core_web_sm"
      ]
    },
    {
      "cell_type": "code",
      "execution_count": 228,
      "metadata": {},
      "outputs": [],
      "source": [
        "import spacy\n",
        "import pandas as pd\n"
      ]
    },
    {
      "cell_type": "markdown",
      "metadata": {
        "id": "8sIdZBRoDy4D"
      },
      "source": [
        "Load models"
      ]
    },
    {
      "cell_type": "code",
      "execution_count": 229,
      "metadata": {
        "colab": {
          "base_uri": "https://localhost:8080/"
        },
        "id": "Re-k1eQ0D_Rt",
        "outputId": "8c235d9a-be6c-46dc-898e-29b76dd66290"
      },
      "outputs": [],
      "source": [
        "nlp = spacy.load(\"en_core_web_sm\")"
      ]
    },
    {
      "cell_type": "markdown",
      "metadata": {
        "id": "yayNrt6JF9qI"
      },
      "source": [
        "Named Entity Recognition"
      ]
    },
    {
      "cell_type": "code",
      "execution_count": 230,
      "metadata": {
        "colab": {
          "base_uri": "https://localhost:8080/"
        },
        "id": "K75F7z0mISB6",
        "outputId": "7b67b49d-e0df-4f67-dc66-1f85ba20dd61"
      },
      "outputs": [],
      "source": [
        "def extract_ent(text):\n",
        "  doc = nlp(text)\n",
        "  entList = []\n",
        "  for ent in doc.ents:\n",
        "    entList.append({\n",
        "      \"text\": ent.text,\n",
        "      \"n_word\": len(ent.text.split(\" \")),\n",
        "      \"start_pos\": ent.start_char,\n",
        "      \"end_pos\": ent.end_char,\n",
        "      \"label\": ent.label_\n",
        "    })\n",
        "  return pd.DataFrame(entList)\n",
        "\n",
        "\n",
        "df = pd.read_csv('physics_and_chemistry_nobel_laureate.csv')\n",
        "\n",
        "df_entities_spacy = pd.DataFrame()\n",
        "for index, row in df.iterrows():\n",
        "  text = row['biography']\n",
        "  category = row['category']\n",
        "  subject = row[\"name\"]\n",
        "  df_ents = extract_ent(text)\n",
        "  df_ents['subject'] = subject\n",
        "  df_ents['source_index'] = index\n",
        "  df_ents[\"category\"] = category\n",
        "\n",
        "  df_entities_spacy = pd.concat([df_entities_spacy, df_ents], ignore_index = True)"
      ]
    },
    {
      "cell_type": "code",
      "execution_count": 231,
      "metadata": {},
      "outputs": [
        {
          "data": {
            "text/html": [
              "<div>\n",
              "<style scoped>\n",
              "    .dataframe tbody tr th:only-of-type {\n",
              "        vertical-align: middle;\n",
              "    }\n",
              "\n",
              "    .dataframe tbody tr th {\n",
              "        vertical-align: top;\n",
              "    }\n",
              "\n",
              "    .dataframe thead th {\n",
              "        text-align: right;\n",
              "    }\n",
              "</style>\n",
              "<table border=\"1\" class=\"dataframe\">\n",
              "  <thead>\n",
              "    <tr style=\"text-align: right;\">\n",
              "      <th></th>\n",
              "      <th>text</th>\n",
              "      <th>n_word</th>\n",
              "      <th>start_pos</th>\n",
              "      <th>end_pos</th>\n",
              "      <th>label</th>\n",
              "      <th>subject</th>\n",
              "      <th>source_index</th>\n",
              "      <th>category</th>\n",
              "    </tr>\n",
              "  </thead>\n",
              "  <tbody>\n",
              "    <tr>\n",
              "      <th>0</th>\n",
              "      <td>Wilhelm Conrad Röntgen</td>\n",
              "      <td>3</td>\n",
              "      <td>0</td>\n",
              "      <td>22</td>\n",
              "      <td>PERSON</td>\n",
              "      <td>Wilhelm Röntgen</td>\n",
              "      <td>0</td>\n",
              "      <td>Physics</td>\n",
              "    </tr>\n",
              "    <tr>\n",
              "      <th>1</th>\n",
              "      <td>German</td>\n",
              "      <td>1</td>\n",
              "      <td>26</td>\n",
              "      <td>32</td>\n",
              "      <td>NORP</td>\n",
              "      <td>Wilhelm Röntgen</td>\n",
              "      <td>0</td>\n",
              "      <td>Physics</td>\n",
              "    </tr>\n",
              "    <tr>\n",
              "      <th>2</th>\n",
              "      <td>27 March 1845</td>\n",
              "      <td>3</td>\n",
              "      <td>70</td>\n",
              "      <td>83</td>\n",
              "      <td>DATE</td>\n",
              "      <td>Wilhelm Röntgen</td>\n",
              "      <td>0</td>\n",
              "      <td>Physics</td>\n",
              "    </tr>\n",
              "    <tr>\n",
              "      <th>3</th>\n",
              "      <td>10 February 1923</td>\n",
              "      <td>3</td>\n",
              "      <td>86</td>\n",
              "      <td>102</td>\n",
              "      <td>DATE</td>\n",
              "      <td>Wilhelm Röntgen</td>\n",
              "      <td>0</td>\n",
              "      <td>Physics</td>\n",
              "    </tr>\n",
              "    <tr>\n",
              "      <th>4</th>\n",
              "      <td>German</td>\n",
              "      <td>1</td>\n",
              "      <td>110</td>\n",
              "      <td>116</td>\n",
              "      <td>NORP</td>\n",
              "      <td>Wilhelm Röntgen</td>\n",
              "      <td>0</td>\n",
              "      <td>Physics</td>\n",
              "    </tr>\n",
              "  </tbody>\n",
              "</table>\n",
              "</div>"
            ],
            "text/plain": [
              "                     text  n_word  start_pos  end_pos   label  \\\n",
              "0  Wilhelm Conrad Röntgen       3          0       22  PERSON   \n",
              "1                  German       1         26       32    NORP   \n",
              "2           27 March 1845       3         70       83    DATE   \n",
              "3        10 February 1923       3         86      102    DATE   \n",
              "4                  German       1        110      116    NORP   \n",
              "\n",
              "           subject  source_index category  \n",
              "0  Wilhelm Röntgen             0  Physics  \n",
              "1  Wilhelm Röntgen             0  Physics  \n",
              "2  Wilhelm Röntgen             0  Physics  \n",
              "3  Wilhelm Röntgen             0  Physics  \n",
              "4  Wilhelm Röntgen             0  Physics  "
            ]
          },
          "execution_count": 231,
          "metadata": {},
          "output_type": "execute_result"
        }
      ],
      "source": [
        "df_entities_spacy.head()"
      ]
    },
    {
      "cell_type": "markdown",
      "metadata": {},
      "source": [
        "## Statistics for Spacy"
      ]
    },
    {
      "cell_type": "code",
      "execution_count": 232,
      "metadata": {
        "id": "oCYtfTMgMMlW"
      },
      "outputs": [],
      "source": [
        "# def computeStats(df_ents):\n",
        "\n",
        "#     stats_count = df_ents['label'].value_counts().describe()\n",
        "\n",
        "#     df_ents['length'] = df_ents['text'].apply(len)\n",
        "#     stats_length = df_ents.groupby('label')['length'].describe()\n",
        "\n",
        "#     return stats_count, stats_length\n",
        "\n"
      ]
    },
    {
      "cell_type": "code",
      "execution_count": 233,
      "metadata": {},
      "outputs": [],
      "source": [
        "df_entities_spacy.to_csv(\"df_entities_spacy.csv\", index=False)"
      ]
    }
  ],
  "metadata": {
    "colab": {
      "provenance": []
    },
    "kernelspec": {
      "display_name": "Python 3",
      "name": "python3"
    },
    "language_info": {
      "codemirror_mode": {
        "name": "ipython",
        "version": 3
      },
      "file_extension": ".py",
      "mimetype": "text/x-python",
      "name": "python",
      "nbconvert_exporter": "python",
      "pygments_lexer": "ipython3",
      "version": "3.12.0"
    }
  },
  "nbformat": 4,
  "nbformat_minor": 0
}
