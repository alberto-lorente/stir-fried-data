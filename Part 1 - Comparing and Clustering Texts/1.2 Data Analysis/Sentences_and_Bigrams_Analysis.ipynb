{
  "cells": [
    {
      "cell_type": "code",
      "execution_count": 1,
      "metadata": {
        "id": "tAQ3Fnn8D5D9"
      },
      "outputs": [],
      "source": [
        "import pandas as pd\n",
        "import os\n",
        "\n",
        "# accessing the grandparent folder \n",
        "path = os.getcwd()\n",
        "parent = os.path.dirname(os.path.dirname(path))\n",
        "# data directory\n",
        "data_dir_physics = os.path.join(parent, \"Data Directory\", \"physics_and_chemistry_nobel_laureate.csv\")\n",
        "\n",
        "\n",
        "df = pd.read_csv(data_dir_physics)"
      ]
    },
    {
      "cell_type": "code",
      "execution_count": 2,
      "metadata": {
        "colab": {
          "base_uri": "https://localhost:8080/",
          "height": 204
        },
        "id": "5_H1l-0lEV26",
        "outputId": "dbe10a97-9d2b-4db2-af42-ad3d781008f0"
      },
      "outputs": [
        {
          "data": {
            "text/html": [
              "<div>\n",
              "<style scoped>\n",
              "    .dataframe tbody tr th:only-of-type {\n",
              "        vertical-align: middle;\n",
              "    }\n",
              "\n",
              "    .dataframe tbody tr th {\n",
              "        vertical-align: top;\n",
              "    }\n",
              "\n",
              "    .dataframe thead th {\n",
              "        text-align: right;\n",
              "    }\n",
              "</style>\n",
              "<table border=\"1\" class=\"dataframe\">\n",
              "  <thead>\n",
              "    <tr style=\"text-align: right;\">\n",
              "      <th></th>\n",
              "      <th>year</th>\n",
              "      <th>name</th>\n",
              "      <th>country</th>\n",
              "      <th>category</th>\n",
              "      <th>biography</th>\n",
              "      <th>clean_biography</th>\n",
              "    </tr>\n",
              "  </thead>\n",
              "  <tbody>\n",
              "    <tr>\n",
              "      <th>0</th>\n",
              "      <td>1901</td>\n",
              "      <td>Wilhelm Röntgen</td>\n",
              "      <td>German Empire</td>\n",
              "      <td>Physics</td>\n",
              "      <td>Wilhelm Conrad Röntgen (; German pronunciation...</td>\n",
              "      <td>wilhelm conrad röntgen german pronunciation ˈv...</td>\n",
              "    </tr>\n",
              "    <tr>\n",
              "      <th>1</th>\n",
              "      <td>1902</td>\n",
              "      <td>Hendrik Lorentz</td>\n",
              "      <td>Netherlands</td>\n",
              "      <td>Physics</td>\n",
              "      <td>Hendrik Antoon Lorentz (; 18 July 1853 – 4 Feb...</td>\n",
              "      <td>hendrik antoon lorentz july february dutch phy...</td>\n",
              "    </tr>\n",
              "    <tr>\n",
              "      <th>2</th>\n",
              "      <td>1902</td>\n",
              "      <td>Pieter Zeeman</td>\n",
              "      <td>Netherlands</td>\n",
              "      <td>Physics</td>\n",
              "      <td>Pieter Zeeman (Dutch: [ˈzeːmɑn]; 25 May 1865 –...</td>\n",
              "      <td>pieter zeeman dutch ˈzeːmɑn october dutch phys...</td>\n",
              "    </tr>\n",
              "    <tr>\n",
              "      <th>3</th>\n",
              "      <td>1903</td>\n",
              "      <td>Henri Becquerel</td>\n",
              "      <td>France</td>\n",
              "      <td>Physics</td>\n",
              "      <td>Antoine Henri Becquerel (; French pronunciatio...</td>\n",
              "      <td>antoine henri becquerel french pronunciation b...</td>\n",
              "    </tr>\n",
              "    <tr>\n",
              "      <th>4</th>\n",
              "      <td>1903</td>\n",
              "      <td>Pierre Curie</td>\n",
              "      <td>France</td>\n",
              "      <td>Physics</td>\n",
              "      <td>Pierre Curie ( KURE-ee, French: [pjɛʁ kyʁi]; 1...</td>\n",
              "      <td>pierre curie kure ee french pjɛʁ kyʁi april fr...</td>\n",
              "    </tr>\n",
              "  </tbody>\n",
              "</table>\n",
              "</div>"
            ],
            "text/plain": [
              "   year             name        country category  \\\n",
              "0  1901  Wilhelm Röntgen  German Empire  Physics   \n",
              "1  1902  Hendrik Lorentz    Netherlands  Physics   \n",
              "2  1902    Pieter Zeeman    Netherlands  Physics   \n",
              "3  1903  Henri Becquerel         France  Physics   \n",
              "4  1903     Pierre Curie         France  Physics   \n",
              "\n",
              "                                           biography  \\\n",
              "0  Wilhelm Conrad Röntgen (; German pronunciation...   \n",
              "1  Hendrik Antoon Lorentz (; 18 July 1853 – 4 Feb...   \n",
              "2  Pieter Zeeman (Dutch: [ˈzeːmɑn]; 25 May 1865 –...   \n",
              "3  Antoine Henri Becquerel (; French pronunciatio...   \n",
              "4  Pierre Curie ( KURE-ee, French: [pjɛʁ kyʁi]; 1...   \n",
              "\n",
              "                                     clean_biography  \n",
              "0  wilhelm conrad röntgen german pronunciation ˈv...  \n",
              "1  hendrik antoon lorentz july february dutch phy...  \n",
              "2  pieter zeeman dutch ˈzeːmɑn october dutch phys...  \n",
              "3  antoine henri becquerel french pronunciation b...  \n",
              "4  pierre curie kure ee french pjɛʁ kyʁi april fr...  "
            ]
          },
          "execution_count": 2,
          "metadata": {},
          "output_type": "execute_result"
        }
      ],
      "source": [
        "df.head()"
      ]
    },
    {
      "cell_type": "code",
      "execution_count": 3,
      "metadata": {
        "id": "FcTWMkkXGrKQ"
      },
      "outputs": [],
      "source": [
        "df.drop([\"year\", \"name\", \"country\"], axis=1, inplace=True)"
      ]
    },
    {
      "cell_type": "markdown",
      "metadata": {},
      "source": [
        "## Number of Sentences statistics "
      ]
    },
    {
      "cell_type": "code",
      "execution_count": 4,
      "metadata": {
        "id": "axw6MPHFE6YK"
      },
      "outputs": [
        {
          "name": "stderr",
          "output_type": "stream",
          "text": [
            "c:\\Users\\alber\\AppData\\Local\\Programs\\Python\\Python312\\Lib\\site-packages\\tqdm\\auto.py:21: TqdmWarning: IProgress not found. Please update jupyter and ipywidgets. See https://ipywidgets.readthedocs.io/en/stable/user_install.html\n",
            "  from .autonotebook import tqdm as notebook_tqdm\n"
          ]
        }
      ],
      "source": [
        "import spacy\n",
        "\n",
        "nlp = spacy.load(\"en_core_web_sm\")"
      ]
    },
    {
      "cell_type": "code",
      "execution_count": 5,
      "metadata": {
        "id": "PSpFHUG2E3mQ"
      },
      "outputs": [],
      "source": [
        "def n_sentences(row):\n",
        "  # the length of the list of sentences will give the number of sentences\n",
        "  doc = nlp(row)\n",
        "  sents = [sent for sent in doc.sents]\n",
        "  length_bio = len(sents)\n",
        "  return length_bio\n"
      ]
    },
    {
      "cell_type": "code",
      "execution_count": 6,
      "metadata": {
        "colab": {
          "base_uri": "https://localhost:8080/",
          "height": 282
        },
        "id": "22JX5VYZFWun",
        "outputId": "0ec2ce4a-9ff0-4104-eae6-2b4b8a2e2bda"
      },
      "outputs": [],
      "source": [
        "df[\"n_sentences\"] = df[\"biography\"].apply(n_sentences)"
      ]
    },
    {
      "cell_type": "code",
      "execution_count": 7,
      "metadata": {
        "id": "NxuN2zM7FeVL"
      },
      "outputs": [
        {
          "data": {
            "text/plain": [
              "0       82\n",
              "1      157\n",
              "2       56\n",
              "3       83\n",
              "4       79\n",
              "      ... \n",
              "195     43\n",
              "196     92\n",
              "197     28\n",
              "198     23\n",
              "199     37\n",
              "Name: n_sentences, Length: 200, dtype: int64"
            ]
          },
          "execution_count": 7,
          "metadata": {},
          "output_type": "execute_result"
        }
      ],
      "source": [
        "df[\"n_sentences\"]"
      ]
    },
    {
      "cell_type": "markdown",
      "metadata": {},
      "source": [
        "### Total number of sentences per category"
      ]
    },
    {
      "cell_type": "code",
      "execution_count": 8,
      "metadata": {
        "id": "PI-_caCYENKi"
      },
      "outputs": [
        {
          "data": {
            "text/html": [
              "<div>\n",
              "<style scoped>\n",
              "    .dataframe tbody tr th:only-of-type {\n",
              "        vertical-align: middle;\n",
              "    }\n",
              "\n",
              "    .dataframe tbody tr th {\n",
              "        vertical-align: top;\n",
              "    }\n",
              "\n",
              "    .dataframe thead th {\n",
              "        text-align: right;\n",
              "    }\n",
              "</style>\n",
              "<table border=\"1\" class=\"dataframe\">\n",
              "  <thead>\n",
              "    <tr style=\"text-align: right;\">\n",
              "      <th></th>\n",
              "      <th>n_sentences</th>\n",
              "    </tr>\n",
              "    <tr>\n",
              "      <th>category</th>\n",
              "      <th></th>\n",
              "    </tr>\n",
              "  </thead>\n",
              "  <tbody>\n",
              "    <tr>\n",
              "      <th>Chemistry</th>\n",
              "      <td>7612</td>\n",
              "    </tr>\n",
              "    <tr>\n",
              "      <th>Physics</th>\n",
              "      <td>13405</td>\n",
              "    </tr>\n",
              "  </tbody>\n",
              "</table>\n",
              "</div>"
            ],
            "text/plain": [
              "           n_sentences\n",
              "category              \n",
              "Chemistry         7612\n",
              "Physics          13405"
            ]
          },
          "execution_count": 8,
          "metadata": {},
          "output_type": "execute_result"
        }
      ],
      "source": [
        "# Total number of sentences per category\n",
        "sum_lengths = df.groupby(\"category\").sum(\"n_sentences\")\n",
        "sum_lengths"
      ]
    },
    {
      "cell_type": "markdown",
      "metadata": {},
      "source": [
        "### Average number of sentences per category"
      ]
    },
    {
      "cell_type": "code",
      "execution_count": 9,
      "metadata": {
        "id": "QSpAkg5fGGbS"
      },
      "outputs": [
        {
          "data": {
            "text/html": [
              "<div>\n",
              "<style scoped>\n",
              "    .dataframe tbody tr th:only-of-type {\n",
              "        vertical-align: middle;\n",
              "    }\n",
              "\n",
              "    .dataframe tbody tr th {\n",
              "        vertical-align: top;\n",
              "    }\n",
              "\n",
              "    .dataframe thead th {\n",
              "        text-align: right;\n",
              "    }\n",
              "</style>\n",
              "<table border=\"1\" class=\"dataframe\">\n",
              "  <thead>\n",
              "    <tr style=\"text-align: right;\">\n",
              "      <th></th>\n",
              "      <th>n_sentences</th>\n",
              "    </tr>\n",
              "    <tr>\n",
              "      <th>category</th>\n",
              "      <th></th>\n",
              "    </tr>\n",
              "  </thead>\n",
              "  <tbody>\n",
              "    <tr>\n",
              "      <th>Chemistry</th>\n",
              "      <td>76.12</td>\n",
              "    </tr>\n",
              "    <tr>\n",
              "      <th>Physics</th>\n",
              "      <td>134.05</td>\n",
              "    </tr>\n",
              "  </tbody>\n",
              "</table>\n",
              "</div>"
            ],
            "text/plain": [
              "           n_sentences\n",
              "category              \n",
              "Chemistry        76.12\n",
              "Physics         134.05"
            ]
          },
          "execution_count": 9,
          "metadata": {},
          "output_type": "execute_result"
        }
      ],
      "source": [
        "# Average number of sentences per category\n",
        "mean_len = df.groupby(\"category\").mean(\"n_sentences\")\n",
        "mean_len"
      ]
    },
    {
      "cell_type": "markdown",
      "metadata": {},
      "source": [
        "### Max number of sentences per category"
      ]
    },
    {
      "cell_type": "code",
      "execution_count": 10,
      "metadata": {
        "id": "LpZNpYW5ENG-"
      },
      "outputs": [
        {
          "data": {
            "text/html": [
              "<div>\n",
              "<style scoped>\n",
              "    .dataframe tbody tr th:only-of-type {\n",
              "        vertical-align: middle;\n",
              "    }\n",
              "\n",
              "    .dataframe tbody tr th {\n",
              "        vertical-align: top;\n",
              "    }\n",
              "\n",
              "    .dataframe thead th {\n",
              "        text-align: right;\n",
              "    }\n",
              "</style>\n",
              "<table border=\"1\" class=\"dataframe\">\n",
              "  <thead>\n",
              "    <tr style=\"text-align: right;\">\n",
              "      <th></th>\n",
              "      <th>n_sentences</th>\n",
              "    </tr>\n",
              "    <tr>\n",
              "      <th>category</th>\n",
              "      <th></th>\n",
              "    </tr>\n",
              "  </thead>\n",
              "  <tbody>\n",
              "    <tr>\n",
              "      <th>Chemistry</th>\n",
              "      <td>485</td>\n",
              "    </tr>\n",
              "    <tr>\n",
              "      <th>Physics</th>\n",
              "      <td>772</td>\n",
              "    </tr>\n",
              "  </tbody>\n",
              "</table>\n",
              "</div>"
            ],
            "text/plain": [
              "           n_sentences\n",
              "category              \n",
              "Chemistry          485\n",
              "Physics            772"
            ]
          },
          "execution_count": 10,
          "metadata": {},
          "output_type": "execute_result"
        }
      ],
      "source": [
        "# Max number of sentences per category\n",
        "max_len = df.groupby(\"category\").max(\"n_sentences\")\n",
        "max_len"
      ]
    },
    {
      "cell_type": "code",
      "execution_count": 11,
      "metadata": {},
      "outputs": [
        {
          "data": {
            "text/html": [
              "<div>\n",
              "<style scoped>\n",
              "    .dataframe tbody tr th:only-of-type {\n",
              "        vertical-align: middle;\n",
              "    }\n",
              "\n",
              "    .dataframe tbody tr th {\n",
              "        vertical-align: top;\n",
              "    }\n",
              "\n",
              "    .dataframe thead th {\n",
              "        text-align: right;\n",
              "    }\n",
              "</style>\n",
              "<table border=\"1\" class=\"dataframe\">\n",
              "  <thead>\n",
              "    <tr style=\"text-align: right;\">\n",
              "      <th></th>\n",
              "      <th>category</th>\n",
              "      <th>biography</th>\n",
              "    </tr>\n",
              "  </thead>\n",
              "  <tbody>\n",
              "    <tr>\n",
              "      <th>139</th>\n",
              "      <td>Chemistry</td>\n",
              "      <td>Otto Hahn (pronounced [ˈɔtoː ˈhaːn] ; 8 March ...</td>\n",
              "    </tr>\n",
              "  </tbody>\n",
              "</table>\n",
              "</div>"
            ],
            "text/plain": [
              "      category                                          biography\n",
              "139  Chemistry  Otto Hahn (pronounced [ˈɔtoː ˈhaːn] ; 8 March ..."
            ]
          },
          "execution_count": 11,
          "metadata": {},
          "output_type": "execute_result"
        }
      ],
      "source": [
        "df[(df[\"category\"] == \"Chemistry\") & (df[\"n_sentences\"] == 485)][[\"category\", \"biography\"]]"
      ]
    },
    {
      "cell_type": "code",
      "execution_count": 12,
      "metadata": {},
      "outputs": [
        {
          "data": {
            "text/html": [
              "<div>\n",
              "<style scoped>\n",
              "    .dataframe tbody tr th:only-of-type {\n",
              "        vertical-align: middle;\n",
              "    }\n",
              "\n",
              "    .dataframe tbody tr th {\n",
              "        vertical-align: top;\n",
              "    }\n",
              "\n",
              "    .dataframe thead th {\n",
              "        text-align: right;\n",
              "    }\n",
              "</style>\n",
              "<table border=\"1\" class=\"dataframe\">\n",
              "  <thead>\n",
              "    <tr style=\"text-align: right;\">\n",
              "      <th></th>\n",
              "      <th>category</th>\n",
              "      <th>biography</th>\n",
              "    </tr>\n",
              "  </thead>\n",
              "  <tbody>\n",
              "    <tr>\n",
              "      <th>82</th>\n",
              "      <td>Physics</td>\n",
              "      <td>Richard Phillips Feynman (; May 11, 1918 – Feb...</td>\n",
              "    </tr>\n",
              "  </tbody>\n",
              "</table>\n",
              "</div>"
            ],
            "text/plain": [
              "   category                                          biography\n",
              "82  Physics  Richard Phillips Feynman (; May 11, 1918 – Feb..."
            ]
          },
          "execution_count": 12,
          "metadata": {},
          "output_type": "execute_result"
        }
      ],
      "source": [
        "df[(df[\"category\"] == \"Physics\") & (df[\"n_sentences\"] == 772)][[\"category\", \"biography\"]]"
      ]
    },
    {
      "cell_type": "markdown",
      "metadata": {},
      "source": [
        "### Min number of sentences per category"
      ]
    },
    {
      "cell_type": "code",
      "execution_count": 13,
      "metadata": {
        "id": "Klce2auIENES"
      },
      "outputs": [
        {
          "data": {
            "text/html": [
              "<div>\n",
              "<style scoped>\n",
              "    .dataframe tbody tr th:only-of-type {\n",
              "        vertical-align: middle;\n",
              "    }\n",
              "\n",
              "    .dataframe tbody tr th {\n",
              "        vertical-align: top;\n",
              "    }\n",
              "\n",
              "    .dataframe thead th {\n",
              "        text-align: right;\n",
              "    }\n",
              "</style>\n",
              "<table border=\"1\" class=\"dataframe\">\n",
              "  <thead>\n",
              "    <tr style=\"text-align: right;\">\n",
              "      <th></th>\n",
              "      <th>n_sentences</th>\n",
              "    </tr>\n",
              "    <tr>\n",
              "      <th>category</th>\n",
              "      <th></th>\n",
              "    </tr>\n",
              "  </thead>\n",
              "  <tbody>\n",
              "    <tr>\n",
              "      <th>Chemistry</th>\n",
              "      <td>16</td>\n",
              "    </tr>\n",
              "    <tr>\n",
              "      <th>Physics</th>\n",
              "      <td>23</td>\n",
              "    </tr>\n",
              "  </tbody>\n",
              "</table>\n",
              "</div>"
            ],
            "text/plain": [
              "           n_sentences\n",
              "category              \n",
              "Chemistry           16\n",
              "Physics             23"
            ]
          },
          "execution_count": 13,
          "metadata": {},
          "output_type": "execute_result"
        }
      ],
      "source": [
        "# Min number of sentences per category\n",
        "min_len = df.groupby(\"category\").min(\"n_sentences\")\n",
        "min_len"
      ]
    },
    {
      "cell_type": "code",
      "execution_count": 14,
      "metadata": {},
      "outputs": [
        {
          "data": {
            "text/html": [
              "<div>\n",
              "<style scoped>\n",
              "    .dataframe tbody tr th:only-of-type {\n",
              "        vertical-align: middle;\n",
              "    }\n",
              "\n",
              "    .dataframe tbody tr th {\n",
              "        vertical-align: top;\n",
              "    }\n",
              "\n",
              "    .dataframe thead th {\n",
              "        text-align: right;\n",
              "    }\n",
              "</style>\n",
              "<table border=\"1\" class=\"dataframe\">\n",
              "  <thead>\n",
              "    <tr style=\"text-align: right;\">\n",
              "      <th></th>\n",
              "      <th>category</th>\n",
              "      <th>biography</th>\n",
              "    </tr>\n",
              "  </thead>\n",
              "  <tbody>\n",
              "    <tr>\n",
              "      <th>145</th>\n",
              "      <td>Chemistry</td>\n",
              "      <td>Arne Wilhelm Kaurin Tiselius (10 August 1902 –...</td>\n",
              "    </tr>\n",
              "  </tbody>\n",
              "</table>\n",
              "</div>"
            ],
            "text/plain": [
              "      category                                          biography\n",
              "145  Chemistry  Arne Wilhelm Kaurin Tiselius (10 August 1902 –..."
            ]
          },
          "execution_count": 14,
          "metadata": {},
          "output_type": "execute_result"
        }
      ],
      "source": [
        "df[(df[\"category\"] == \"Chemistry\") & (df[\"n_sentences\"] == 16)][[\"category\", \"biography\"]]"
      ]
    },
    {
      "cell_type": "code",
      "execution_count": 15,
      "metadata": {},
      "outputs": [
        {
          "data": {
            "text/html": [
              "<div>\n",
              "<style scoped>\n",
              "    .dataframe tbody tr th:only-of-type {\n",
              "        vertical-align: middle;\n",
              "    }\n",
              "\n",
              "    .dataframe tbody tr th {\n",
              "        vertical-align: top;\n",
              "    }\n",
              "\n",
              "    .dataframe thead th {\n",
              "        text-align: right;\n",
              "    }\n",
              "</style>\n",
              "<table border=\"1\" class=\"dataframe\">\n",
              "  <thead>\n",
              "    <tr style=\"text-align: right;\">\n",
              "      <th></th>\n",
              "      <th>category</th>\n",
              "      <th>biography</th>\n",
              "    </tr>\n",
              "  </thead>\n",
              "  <tbody>\n",
              "    <tr>\n",
              "      <th>89</th>\n",
              "      <td>Physics</td>\n",
              "      <td>Louis Eugène Félix Néel  (22 November 1904 – 1...</td>\n",
              "    </tr>\n",
              "  </tbody>\n",
              "</table>\n",
              "</div>"
            ],
            "text/plain": [
              "   category                                          biography\n",
              "89  Physics  Louis Eugène Félix Néel  (22 November 1904 – 1..."
            ]
          },
          "execution_count": 15,
          "metadata": {},
          "output_type": "execute_result"
        }
      ],
      "source": [
        "df[(df[\"category\"] == \"Physics\") & (df[\"n_sentences\"] == 23)][[\"category\", \"biography\"]]"
      ]
    },
    {
      "cell_type": "markdown",
      "metadata": {},
      "source": [
        "### Visualizations"
      ]
    },
    {
      "cell_type": "code",
      "execution_count": 16,
      "metadata": {
        "id": "NzFNbheWENBu"
      },
      "outputs": [],
      "source": [
        "import matplotlib.pyplot as plt\n",
        "import seaborn as sns\n",
        "import numpy as np"
      ]
    },
    {
      "cell_type": "code",
      "execution_count": 17,
      "metadata": {},
      "outputs": [
        {
          "data": {
            "image/png": "[encoded data removed]",
            "text/plain": [
              "<Figure size 500x500 with 1 Axes>"
            ]
          },
          "metadata": {},
          "output_type": "display_data"
        }
      ],
      "source": [
        "import matplotlib.pyplot as plt\n",
        "import seaborn as sns\n",
        "\n",
        "plt.figure(figsize=(5,5))\n",
        "sns.histplot(df[\"n_sentences\"])\n",
        "plt.title(\"Overall number of sentences distribution\")\n",
        "plt.xlabel(\"Number of sentences\")\n",
        "plt.show()"
      ]
    },
    {
      "cell_type": "code",
      "execution_count": 18,
      "metadata": {
        "id": "Uo1-aNKXEM_G"
      },
      "outputs": [
        {
          "data": {
            "image/png": "[encoded data removed]",
            "text/plain": [
              "<Figure size 500x500 with 1 Axes>"
            ]
          },
          "metadata": {},
          "output_type": "display_data"
        }
      ],
      "source": [
        "fig, ax = plt.subplots(figsize=(5,5))\n",
        "\n",
        "ax.set_yticks(np.arange(0, 800, 50))\n",
        "sns.boxplot(data = df, y = \"n_sentences\", x = \"category\", hue=\"category\")\n",
        "\n",
        "plt.title(\"Sentence length distribution by text category\")\n",
        "plt.ylabel(\"Number of sentences\")\n",
        "plt.xlabel(\"Category\")\n",
        "\n",
        "plt.show()\n"
      ]
    },
    {
      "cell_type": "code",
      "execution_count": 19,
      "metadata": {
        "id": "kGF41nDEEM8o"
      },
      "outputs": [
        {
          "data": {
            "image/png": "[encoded data removed]",
            "text/plain": [
              "<Figure size 500x500 with 1 Axes>"
            ]
          },
          "metadata": {},
          "output_type": "display_data"
        }
      ],
      "source": [
        "fig, ax = plt.subplots(figsize=(5,5))\n",
        "\n",
        "# ax.set_xticks(np.arange(0, 800, 50))\n",
        "sns.histplot(data = df, x=\"n_sentences\", hue=\"category\", bins=40)\n",
        "\n",
        "plt.title(\"Sentence length distribution by text category\")\n",
        "plt.xlabel(\"Number of sentences\")\n",
        "plt.ylabel(\"Frequency\")\n",
        "\n",
        "plt.show()"
      ]
    },
    {
      "cell_type": "markdown",
      "metadata": {
        "id": "tr9GUW_lEL8Q"
      },
      "source": [
        "## Bigrams"
      ]
    },
    {
      "cell_type": "markdown",
      "metadata": {},
      "source": [
        "### Counting bigrams"
      ]
    },
    {
      "cell_type": "code",
      "execution_count": 20,
      "metadata": {
        "id": "GOsau-fgd5T5"
      },
      "outputs": [
        {
          "name": "stderr",
          "output_type": "stream",
          "text": [
            "[nltk_data] Downloading package punkt to\n",
            "[nltk_data]     C:\\Users\\alber\\AppData\\Roaming\\nltk_data...\n",
            "[nltk_data]   Package punkt is already up-to-date!\n"
          ]
        },
        {
          "data": {
            "text/plain": [
              "True"
            ]
          },
          "execution_count": 20,
          "metadata": {},
          "output_type": "execute_result"
        }
      ],
      "source": [
        "from nltk.util import bigrams\n",
        "import nltk\n",
        "nltk.download('punkt')"
      ]
    },
    {
      "cell_type": "code",
      "execution_count": 21,
      "metadata": {},
      "outputs": [],
      "source": [
        "def get_list_texts(df, category):\n",
        "\n",
        "    df = df[df['category'] == category]\n",
        "    #concatenate all into one string\n",
        "    list_texts = df['biography'].tolist()\n",
        "    single_string = \" \".join(list_texts)\n",
        "    nlp.max_length = 1846823 # spaCy safeguards the max length but we can bypass that limit safely in this case\n",
        "    doc = nlp(single_string)\n",
        "    # getting the sentences\n",
        "    list_sentences = [sent for sent in doc.sents]\n",
        "    return list_sentences"
      ]
    },
    {
      "cell_type": "code",
      "execution_count": 22,
      "metadata": {},
      "outputs": [],
      "source": [
        "list_text_physics = get_list_texts(df, \"Physics\")\n",
        "list_text_chemistry = get_list_texts(df, \"Chemistry\")"
      ]
    },
    {
      "cell_type": "code",
      "execution_count": 23,
      "metadata": {},
      "outputs": [],
      "source": [
        "# list of lists where each list represents a sentence and contains the tokens of the sentence\n",
        "\n",
        "tokens_sentences_physics = []\n",
        "for sentence in list_text_physics:\n",
        "    sentence_tokens = [token.text.lower() for token in sentence]\n",
        "    tokens_sentences_physics.append(sentence_tokens)\n",
        "    \n",
        "tokens_sentences_chem = []\n",
        "for sentence in list_text_chemistry:\n",
        "    sentence_tokens = [token.text.lower() for token in sentence]\n",
        "    tokens_sentences_chem.append(sentence_tokens)"
      ]
    },
    {
      "cell_type": "code",
      "execution_count": 24,
      "metadata": {},
      "outputs": [],
      "source": [
        "# the bigrams method from NLTK will give a generator so if we put it in a list, we will get a list of tuples\n",
        "# the length of that list will be the amount of bigrams in each sentence\n",
        "sentences_bigrams_physics = [len(list(bigrams(tokens_sent))) for tokens_sent in tokens_sentences_physics]\n",
        "sentences_bigrams_chem = [len(list(bigrams(tokens_sent))) for tokens_sent in tokens_sentences_chem]"
      ]
    },
    {
      "cell_type": "code",
      "execution_count": 25,
      "metadata": {},
      "outputs": [
        {
          "name": "stdout",
          "output_type": "stream",
          "text": [
            "Total number of bigrams in the Physics category 305922\n",
            "Mean number of bigrams per sentence in the Physics category 22.936122357174987\n",
            "Max. number of bigrams in a sentence in the Physics category 358\n",
            "Min. number of bigrams in a sentence in the Physics category 0\n"
          ]
        }
      ],
      "source": [
        "print(\"Total number of bigrams in the Physics category\" , np.sum(sentences_bigrams_physics))\n",
        "print(\"Mean number of bigrams per sentence in the Physics category\", np.mean(sentences_bigrams_physics))\n",
        "print(\"Max. number of bigrams in a sentence in the Physics category\", np.max(sentences_bigrams_physics))\n",
        "print(\"Min. number of bigrams in a sentence in the Physics category\", np.min(sentences_bigrams_physics))"
      ]
    },
    {
      "cell_type": "code",
      "execution_count": 26,
      "metadata": {},
      "outputs": [
        {
          "name": "stdout",
          "output_type": "stream",
          "text": [
            "Total number of bigrams in the Chemistry category 176686\n",
            "Mean number of bigrams per sentence in the Chemistry category 23.44559447983015\n",
            "Max. number of bigrams in a sentence in the Chemistry category 343\n",
            "Min. number of bigrams in a sentence in the Chemistry category 0\n"
          ]
        }
      ],
      "source": [
        "print(\"Total number of bigrams in the Chemistry category\", np.sum(sentences_bigrams_chem))\n",
        "print(\"Mean number of bigrams per sentence in the Chemistry category\", np.mean(sentences_bigrams_chem))\n",
        "print(\"Max. number of bigrams in a sentence in the Chemistry category\", np.max(sentences_bigrams_chem))\n",
        "print(\"Min. number of bigrams in a sentence in the Chemistry category\", np.min(sentences_bigrams_chem))"
      ]
    },
    {
      "cell_type": "markdown",
      "metadata": {},
      "source": [
        "#### Visualizing the distribution of number of bigrams per sentence"
      ]
    },
    {
      "cell_type": "code",
      "execution_count": 27,
      "metadata": {},
      "outputs": [],
      "source": [
        "df_ph = pd.DataFrame(sentences_bigrams_physics)\n",
        "df_ch = pd.DataFrame(sentences_bigrams_chem)"
      ]
    },
    {
      "cell_type": "code",
      "execution_count": 28,
      "metadata": {},
      "outputs": [],
      "source": [
        "df_ph[\"cat\"] = \"Physics\"\n",
        "df_ch[\"cat\"] = \"Chemestry\""
      ]
    },
    {
      "cell_type": "code",
      "execution_count": 29,
      "metadata": {},
      "outputs": [],
      "source": [
        "df_dist_bigrams = pd.concat([df_ch, df_ph])\n",
        "df_dist_bigrams.columns = [\"values\", \"cat\"]"
      ]
    },
    {
      "cell_type": "code",
      "execution_count": 30,
      "metadata": {},
      "outputs": [
        {
          "data": {
            "image/png": "[encoded data removed]",
            "text/plain": [
              "<Figure size 500x500 with 1 Axes>"
            ]
          },
          "metadata": {},
          "output_type": "display_data"
        }
      ],
      "source": [
        "fig, ax = plt.subplots(figsize=(5,5))\n",
        "\n",
        "# ax.set_xticks(np.arange(0, 800, 50))\n",
        "\n",
        "sns.histplot(df_dist_bigrams, x=\"values\", hue=\"cat\", binwidth=3, kde=True)\n",
        "\n",
        "plt.title(\"Bigrams distribution per sentence by text category\")\n",
        "plt.xlabel(\"Number of bigrams per sentence\")\n",
        "plt.ylabel(\"Frequency\")\n",
        "plt.legend([\"Chemistry\", \"Physics\"], bbox_to_anchor=(1.4, 1))\n",
        "\n",
        "\n",
        "plt.show()"
      ]
    },
    {
      "cell_type": "markdown",
      "metadata": {},
      "source": [
        "### Information Retrieval with bigrams"
      ]
    },
    {
      "cell_type": "code",
      "execution_count": 31,
      "metadata": {},
      "outputs": [],
      "source": [
        "# modified fuction to get clean tokens\n",
        "\n",
        "def get_texts(df, category):\n",
        "\n",
        "    df = df[df['category'] == category]\n",
        "    #concatenate all into one string\n",
        "    all_texts = ' '.join(df['biography'].tolist())\n",
        "    nlp.max_length = 1646823 # bypassing the safeguard\n",
        "    doc = nlp(all_texts)\n",
        "    #filtering stopwords and punctuation\n",
        "    filtered_text = [token.text.lower() for token in doc if not token.is_stop and token.is_alpha]\n",
        "\n",
        "    return filtered_text"
      ]
    },
    {
      "cell_type": "code",
      "execution_count": 32,
      "metadata": {},
      "outputs": [
        {
          "data": {
            "text/html": [
              "<div>\n",
              "<style scoped>\n",
              "    .dataframe tbody tr th:only-of-type {\n",
              "        vertical-align: middle;\n",
              "    }\n",
              "\n",
              "    .dataframe tbody tr th {\n",
              "        vertical-align: top;\n",
              "    }\n",
              "\n",
              "    .dataframe thead th {\n",
              "        text-align: right;\n",
              "    }\n",
              "</style>\n",
              "<table border=\"1\" class=\"dataframe\">\n",
              "  <thead>\n",
              "    <tr style=\"text-align: right;\">\n",
              "      <th></th>\n",
              "      <th>category</th>\n",
              "      <th>biography</th>\n",
              "      <th>clean_biography</th>\n",
              "      <th>n_sentences</th>\n",
              "    </tr>\n",
              "  </thead>\n",
              "  <tbody>\n",
              "    <tr>\n",
              "      <th>0</th>\n",
              "      <td>Physics</td>\n",
              "      <td>Wilhelm Conrad Röntgen (; German pronunciation...</td>\n",
              "      <td>wilhelm conrad röntgen german pronunciation ˈv...</td>\n",
              "      <td>82</td>\n",
              "    </tr>\n",
              "    <tr>\n",
              "      <th>1</th>\n",
              "      <td>Physics</td>\n",
              "      <td>Hendrik Antoon Lorentz (; 18 July 1853 – 4 Feb...</td>\n",
              "      <td>hendrik antoon lorentz july february dutch phy...</td>\n",
              "      <td>157</td>\n",
              "    </tr>\n",
              "    <tr>\n",
              "      <th>2</th>\n",
              "      <td>Physics</td>\n",
              "      <td>Pieter Zeeman (Dutch: [ˈzeːmɑn]; 25 May 1865 –...</td>\n",
              "      <td>pieter zeeman dutch ˈzeːmɑn october dutch phys...</td>\n",
              "      <td>56</td>\n",
              "    </tr>\n",
              "    <tr>\n",
              "      <th>3</th>\n",
              "      <td>Physics</td>\n",
              "      <td>Antoine Henri Becquerel (; French pronunciatio...</td>\n",
              "      <td>antoine henri becquerel french pronunciation b...</td>\n",
              "      <td>83</td>\n",
              "    </tr>\n",
              "    <tr>\n",
              "      <th>4</th>\n",
              "      <td>Physics</td>\n",
              "      <td>Pierre Curie ( KURE-ee, French: [pjɛʁ kyʁi]; 1...</td>\n",
              "      <td>pierre curie kure ee french pjɛʁ kyʁi april fr...</td>\n",
              "      <td>79</td>\n",
              "    </tr>\n",
              "    <tr>\n",
              "      <th>...</th>\n",
              "      <td>...</td>\n",
              "      <td>...</td>\n",
              "      <td>...</td>\n",
              "      <td>...</td>\n",
              "    </tr>\n",
              "    <tr>\n",
              "      <th>195</th>\n",
              "      <td>Chemistry</td>\n",
              "      <td>Sir Aaron Klug  (11 August 1926 – 20 November ...</td>\n",
              "      <td>sir aaron klug august november british biophys...</td>\n",
              "      <td>43</td>\n",
              "    </tr>\n",
              "    <tr>\n",
              "      <th>196</th>\n",
              "      <td>Chemistry</td>\n",
              "      <td>Henry Taube,  (November 30, 1915 – November 16...</td>\n",
              "      <td>henry taube november november canadian bear am...</td>\n",
              "      <td>92</td>\n",
              "    </tr>\n",
              "    <tr>\n",
              "      <th>197</th>\n",
              "      <td>Chemistry</td>\n",
              "      <td>Robert Bruce Merrifield (July 15, 1921 – May 1...</td>\n",
              "      <td>robert bruce merrifield july american biochemi...</td>\n",
              "      <td>28</td>\n",
              "    </tr>\n",
              "    <tr>\n",
              "      <th>198</th>\n",
              "      <td>Chemistry</td>\n",
              "      <td>Herbert Aaron Hauptman (February 14, 1917 – Oc...</td>\n",
              "      <td>herbert aaron hauptman february october americ...</td>\n",
              "      <td>23</td>\n",
              "    </tr>\n",
              "    <tr>\n",
              "      <th>199</th>\n",
              "      <td>Chemistry</td>\n",
              "      <td>Jerome Karle (born Jerome Karfunkle; June 18, ...</td>\n",
              "      <td>jerome karle bear jerome karfunkle june june a...</td>\n",
              "      <td>37</td>\n",
              "    </tr>\n",
              "  </tbody>\n",
              "</table>\n",
              "<p>200 rows × 4 columns</p>\n",
              "</div>"
            ],
            "text/plain": [
              "      category                                          biography  \\\n",
              "0      Physics  Wilhelm Conrad Röntgen (; German pronunciation...   \n",
              "1      Physics  Hendrik Antoon Lorentz (; 18 July 1853 – 4 Feb...   \n",
              "2      Physics  Pieter Zeeman (Dutch: [ˈzeːmɑn]; 25 May 1865 –...   \n",
              "3      Physics  Antoine Henri Becquerel (; French pronunciatio...   \n",
              "4      Physics  Pierre Curie ( KURE-ee, French: [pjɛʁ kyʁi]; 1...   \n",
              "..         ...                                                ...   \n",
              "195  Chemistry  Sir Aaron Klug  (11 August 1926 – 20 November ...   \n",
              "196  Chemistry  Henry Taube,  (November 30, 1915 – November 16...   \n",
              "197  Chemistry  Robert Bruce Merrifield (July 15, 1921 – May 1...   \n",
              "198  Chemistry  Herbert Aaron Hauptman (February 14, 1917 – Oc...   \n",
              "199  Chemistry  Jerome Karle (born Jerome Karfunkle; June 18, ...   \n",
              "\n",
              "                                       clean_biography  n_sentences  \n",
              "0    wilhelm conrad röntgen german pronunciation ˈv...           82  \n",
              "1    hendrik antoon lorentz july february dutch phy...          157  \n",
              "2    pieter zeeman dutch ˈzeːmɑn october dutch phys...           56  \n",
              "3    antoine henri becquerel french pronunciation b...           83  \n",
              "4    pierre curie kure ee french pjɛʁ kyʁi april fr...           79  \n",
              "..                                                 ...          ...  \n",
              "195  sir aaron klug august november british biophys...           43  \n",
              "196  henry taube november november canadian bear am...           92  \n",
              "197  robert bruce merrifield july american biochemi...           28  \n",
              "198  herbert aaron hauptman february october americ...           23  \n",
              "199  jerome karle bear jerome karfunkle june june a...           37  \n",
              "\n",
              "[200 rows x 4 columns]"
            ]
          },
          "execution_count": 32,
          "metadata": {},
          "output_type": "execute_result"
        }
      ],
      "source": [
        "df"
      ]
    },
    {
      "cell_type": "code",
      "execution_count": 33,
      "metadata": {},
      "outputs": [],
      "source": [
        "text_physics = get_texts(df, \"Physics\")\n",
        "text_chemistry = get_texts(df, \"Chemistry\")"
      ]
    },
    {
      "cell_type": "markdown",
      "metadata": {},
      "source": [
        "#### Chemistry bigrams"
      ]
    },
    {
      "cell_type": "code",
      "execution_count": 34,
      "metadata": {},
      "outputs": [],
      "source": [
        "bi_chems = list(bigrams(text_chemistry))"
      ]
    },
    {
      "cell_type": "code",
      "execution_count": 35,
      "metadata": {},
      "outputs": [
        {
          "data": {
            "text/plain": [
              "78538"
            ]
          },
          "execution_count": 35,
          "metadata": {},
          "output_type": "execute_result"
        }
      ],
      "source": [
        "len(text_chemistry)"
      ]
    },
    {
      "cell_type": "code",
      "execution_count": 36,
      "metadata": {},
      "outputs": [
        {
          "data": {
            "text/plain": [
              "78537"
            ]
          },
          "execution_count": 36,
          "metadata": {},
          "output_type": "execute_result"
        }
      ],
      "source": [
        "len(bi_chems)"
      ]
    },
    {
      "cell_type": "code",
      "execution_count": 37,
      "metadata": {},
      "outputs": [],
      "source": [
        "chem_counts = [(item, bi_chems.count(item)) for item in sorted(set(bi_chems))]"
      ]
    },
    {
      "cell_type": "code",
      "execution_count": 38,
      "metadata": {},
      "outputs": [],
      "source": [
        "chem_counts.sort(key=lambda x: x[1], reverse=True)"
      ]
    },
    {
      "cell_type": "code",
      "execution_count": 39,
      "metadata": {},
      "outputs": [
        {
          "data": {
            "text/plain": [
              "[(('nobel', 'prize'), 349),\n",
              " (('prize', 'chemistry'), 228),\n",
              " (('academy', 'sciences'), 127),\n",
              " (('world', 'war'), 112),\n",
              " (('external', 'links'), 101),\n",
              " (('royal', 'society'), 101),\n",
              " (('united', 'states'), 91),\n",
              " (('nobel', 'lecture'), 85),\n",
              " (('new', 'york'), 82),\n",
              " (('awarded', 'nobel'), 68),\n",
              " (('chemical', 'society'), 68),\n",
              " (('national', 'academy'), 68),\n",
              " (('including', 'nobel'), 66),\n",
              " (('lecture', 'december'), 61),\n",
              " (('organic', 'chemistry'), 61),\n",
              " (('american', 'academy'), 57),\n",
              " (('x', 'ray'), 57),\n",
              " (('war', 'ii'), 56),\n",
              " (('arts', 'sciences'), 53),\n",
              " (('kaiser', 'wilhelm'), 53),\n",
              " (('personal', 'life'), 53),\n",
              " (('academy', 'arts'), 51),\n",
              " (('early', 'life'), 48),\n",
              " (('high', 'school'), 48),\n",
              " (('joliot', 'curie'), 48),\n",
              " (('chemistry', 'university'), 46),\n",
              " (('max', 'planck'), 46),\n",
              " (('physical', 'chemistry'), 46),\n",
              " (('references', 'external'), 46),\n",
              " (('university', 'california'), 46),\n",
              " (('won', 'nobel'), 46),\n",
              " (('received', 'nobel'), 45),\n",
              " (('american', 'chemical'), 43),\n",
              " (('otto', 'hahn'), 43),\n",
              " (('fritz', 'haber'), 42),\n",
              " (('linus', 'pauling'), 41),\n",
              " (('american', 'philosophical'), 39),\n",
              " (('philosophical', 'society'), 39),\n",
              " (('vitamin', 'c'), 39),\n",
              " (('honorary', 'member'), 36),\n",
              " (('atomic', 'energy'), 35),\n",
              " (('nobel', 'laureate'), 35),\n",
              " (('nobel', 'laureates'), 35),\n",
              " (('foreign', 'member'), 34),\n",
              " (('university', 'chicago'), 34),\n",
              " (('member', 'american'), 32),\n",
              " (('member', 'royal'), 31),\n",
              " (('wilhelm', 'institute'), 31),\n",
              " (('chemistry', 'work'), 30),\n",
              " (('molecular', 'biology'), 30)]"
            ]
          },
          "execution_count": 39,
          "metadata": {},
          "output_type": "execute_result"
        }
      ],
      "source": [
        "# top 50 bigrams for the chemistry category\n",
        "chem_counts[:50]"
      ]
    },
    {
      "cell_type": "markdown",
      "metadata": {},
      "source": [
        "#### Physics bigrams\n"
      ]
    },
    {
      "cell_type": "code",
      "execution_count": 40,
      "metadata": {},
      "outputs": [],
      "source": [
        "bi_physics = list(bigrams(text_physics))"
      ]
    },
    {
      "cell_type": "code",
      "execution_count": 41,
      "metadata": {},
      "outputs": [
        {
          "data": {
            "text/plain": [
              "136054"
            ]
          },
          "execution_count": 41,
          "metadata": {},
          "output_type": "execute_result"
        }
      ],
      "source": [
        "len(text_physics)"
      ]
    },
    {
      "cell_type": "code",
      "execution_count": 42,
      "metadata": {},
      "outputs": [
        {
          "data": {
            "text/plain": [
              "136053"
            ]
          },
          "execution_count": 42,
          "metadata": {},
          "output_type": "execute_result"
        }
      ],
      "source": [
        "len(bi_physics)"
      ]
    },
    {
      "cell_type": "code",
      "execution_count": 43,
      "metadata": {},
      "outputs": [],
      "source": [
        "physics_counts = [(item, bi_physics.count(item)) for item in sorted(set(bi_physics))]\n",
        "physics_counts.sort(key=lambda x: x[1], reverse=True)"
      ]
    },
    {
      "cell_type": "code",
      "execution_count": 44,
      "metadata": {},
      "outputs": [
        {
          "data": {
            "text/plain": [
              "[(('nobel', 'prize'), 451),\n",
              " (('prize', 'physics'), 274),\n",
              " (('united', 'states'), 211),\n",
              " (('academy', 'sciences'), 174),\n",
              " (('quantum', 'mechanics'), 159),\n",
              " (('new', 'york'), 152),\n",
              " (('niels', 'bohr'), 150),\n",
              " (('world', 'war'), 149),\n",
              " (('institute', 'physics'), 127),\n",
              " (('theoretical', 'physics'), 121),\n",
              " (('royal', 'society'), 110),\n",
              " (('external', 'links'), 100),\n",
              " (('american', 'institute'), 86),\n",
              " (('university', 'press'), 86),\n",
              " (('press', 'isbn'), 81),\n",
              " (('national', 'academy'), 79),\n",
              " (('los', 'alamos'), 78),\n",
              " (('manhattan', 'project'), 78),\n",
              " (('atomic', 'energy'), 76),\n",
              " (('max', 'planck'), 76),\n",
              " (('albert', 'einstein'), 75),\n",
              " (('nobel', 'lecture'), 75),\n",
              " (('bohr', 'library'), 74),\n",
              " (('library', 'archives'), 74),\n",
              " (('awarded', 'nobel'), 72),\n",
              " (('war', 'ii'), 72),\n",
              " (('isbn', 'oclc'), 71),\n",
              " (('quantum', 'theory'), 70),\n",
              " (('university', 'california'), 70),\n",
              " (('physics', 'niels'), 68),\n",
              " (('oral', 'history'), 67),\n",
              " (('professor', 'physics'), 65),\n",
              " (('van', 'der'), 65),\n",
              " (('von', 'laue'), 65),\n",
              " (('x', 'rays'), 65),\n",
              " (('gell', 'mann'), 64),\n",
              " (('university', 'chicago'), 64),\n",
              " (('energy', 'commission'), 62),\n",
              " (('history', 'interview'), 62),\n",
              " (('including', 'nobel'), 62),\n",
              " (('interview', 'transcript'), 62),\n",
              " (('marie', 'curie'), 62),\n",
              " (('academy', 'arts'), 60),\n",
              " (('der', 'waals'), 60),\n",
              " (('arts', 'sciences'), 59),\n",
              " (('max', 'von'), 57),\n",
              " (('x', 'ray'), 57),\n",
              " (('nuclear', 'physics'), 56),\n",
              " (('physical', 'review'), 56),\n",
              " (('max', 'born'), 55)]"
            ]
          },
          "execution_count": 44,
          "metadata": {},
          "output_type": "execute_result"
        }
      ],
      "source": [
        "# top 50 bigrams for the physics category\n",
        "physics_counts[:50]"
      ]
    }
  ],
  "metadata": {
    "colab": {
      "provenance": []
    },
    "kernelspec": {
      "display_name": "Python 3",
      "name": "python3"
    },
    "language_info": {
      "codemirror_mode": {
        "name": "ipython",
        "version": 3
      },
      "file_extension": ".py",
      "mimetype": "text/x-python",
      "name": "python",
      "nbconvert_exporter": "python",
      "pygments_lexer": "ipython3",
      "version": "3.12.0"
    }
  },
  "nbformat": 4,
  "nbformat_minor": 0
}
