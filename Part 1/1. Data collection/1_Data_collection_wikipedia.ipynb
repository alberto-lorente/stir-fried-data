{
  "cells": [
    {
      "cell_type": "markdown",
      "metadata": {
        "id": "Pb9Ct8MwnqR0"
      },
      "source": [
        "Tunji and Yan will feed names and categories\n"
      ]
    },
    {
      "cell_type": "code",
      "execution_count": 25,
      "metadata": {
        "colab": {
          "base_uri": "https://localhost:8080/"
        },
        "id": "yaYSj_HFn4Zc",
        "outputId": "ac21e3b6-40dc-47cc-ca62-23f20af67d01"
      },
      "outputs": [],
      "source": [
        "# !pip install wikipedia\n",
        "# !pip install wptools"
      ]
    },
    {
      "cell_type": "code",
      "execution_count": 26,
      "metadata": {
        "id": "NJAS550BnbIp"
      },
      "outputs": [],
      "source": [
        "import json\n",
        "import pandas as pd\n",
        "import requests\n",
        "import wikipedia\n",
        "import wptools\n",
        "import os"
      ]
    },
    {
      "cell_type": "code",
      "execution_count": 27,
      "metadata": {
        "id": "hyw1Qy-woRuX"
      },
      "outputs": [],
      "source": [
        "example_physics = (\"Peter_Higgs\", \"Nobel_Prize_Physics_winners\")"
      ]
    },
    {
      "cell_type": "code",
      "execution_count": 28,
      "metadata": {
        "id": "iFejOgcSodMG"
      },
      "outputs": [],
      "source": [
        "example_skaters = (\"Tony_Hawk\", \"skater\")"
      ]
    },
    {
      "cell_type": "markdown",
      "metadata": {
        "id": "4sFii5PQ0nKX"
      },
      "source": [
        "See if we can get smth from https://github.com/siznax/wptools"
      ]
    },
    {
      "cell_type": "code",
      "execution_count": 29,
      "metadata": {
        "id": "gGcF3ZMw1gXH"
      },
      "outputs": [],
      "source": [
        "# list_names = [(\"name\", \"category\"), (\"name\", \"category\")]\n",
        "# for tuple_ in list_names:\n",
        "#   collect_bios(tuple_[0], tuple_[1])"
      ]
    },
    {
      "cell_type": "code",
      "execution_count": 30,
      "metadata": {
        "id": "bMt3BrDDo9pZ"
      },
      "outputs": [],
      "source": [
        "def collect_bios(name):\n",
        "  # wikipedia.set_lang(\"eng\")\n",
        "\n",
        "  print(\"Searching for\", name)\n",
        "\n",
        "  search_name = name.replace(\"_\", \" \")\n",
        "\n",
        "  search = wikipedia.search(search_name)[0]\n",
        "  print(search)\n",
        "\n",
        "  try:\n",
        "    page = wikipedia.page(search)\n",
        "    print(\"Page found\")\n",
        "    full_content = page.content # we are getting all the content of the page for now\n",
        "\n",
        "  except:\n",
        "    print(\"Page not found\\nLooking for wikidata page id\")\n",
        "    #suggestions\n",
        "    wp_page = wptools.page(search_name)\n",
        "    query = wp_page.get_query()\n",
        "    # print(query.data)\n",
        "    page_id = query.data[\"pageid\"]\n",
        "    page_url = query.data[\"url\"]\n",
        "    # print(page_id, page_url)\n",
        "    page = wikipedia.page(pageid=page_id)\n",
        "    print(\"Page found!\")\n",
        "    \n",
        "    full_content = page.content\n",
        "\n",
        "  return full_content\n",
        "\n",
        "  # check that the search was right\n",
        "  # if search_name == page.title:\n",
        "  #   print(search_name)\n",
        "  # else:\n",
        "  #   print(\"Unsuccesful search\")\n",
        "\n",
        "  # WHAT DO WE MEAN BY BIOGRAPHY: ALL THE PAGE, SUMMARY, SPECIFIC BOXES?\n",
        "\n",
        "  # html = page.html\n",
        "  # if we wanted to get specific sections, we can parse the html and the sections are in this tag:\n",
        "  # <span class=\"mw-headline\" id=\"Early_life\">Early life</span>\n",
        "\n",
        "\n"
      ]
    },
    {
      "cell_type": "markdown",
      "metadata": {},
      "source": [
        "Change the if/else category once we know how the category and the names are going to be fed from the web crawl"
      ]
    },
    {
      "cell_type": "code",
      "execution_count": 1,
      "metadata": {
        "id": "FEjRzhTG1Ym_"
      },
      "outputs": [],
      "source": [
        "def save_text(name, category, full_content):\n",
        "  name = name.replace(\"_\", \"\")\n",
        "  if category == \"Nobel Prize Winner\":\n",
        "    file_name = r\"\\Nobel_Prize_Winers\" + name + \"_\" + category + \".txt\"\n",
        "  else:\n",
        "    file_name = r\"\\Red_Bull_Skaters\" + name + \"_\" + category + \".txt\"\n",
        "  with open(file_name, \"w\") as f:\n",
        "    f.write(full_content)\n"
      ]
    },
    {
      "cell_type": "code",
      "execution_count": 32,
      "metadata": {
        "id": "2lDFfBLg2LBJ"
      },
      "outputs": [],
      "source": [
        "def data_frame(file_paths):\n",
        "  df = pd.DataFrame()\n",
        "  list_files_dir = os.list_dir(file_paths)\n",
        "  for file_content in list_files_dir:\n",
        "    with open(file_content, \"r\") as f:\n",
        "      content = f.read()\n",
        "      names = file_content.replace(\".text\", \"\").split(\"_\")\n",
        "      name = names[0]\n",
        "      category = names[1]\n",
        "      dictionary = {\"Text\": content, \"Category\": category}\n",
        "      df_file = pd.DataFrame.from_dict(dictionary)\n",
        "      df = pd.concat([df, df_file], axis = 1 )\n",
        "    return df"
      ]
    },
    {
      "cell_type": "code",
      "execution_count": 35,
      "metadata": {},
      "outputs": [
        {
          "name": "stdout",
          "output_type": "stream",
          "text": [
            "Searching for Peter_Higgs\n",
            "Peter Higgs\n",
            "Page found\n"
          ]
        }
      ],
      "source": [
        "example_1 = collect_bios(example_physics[0])\n",
        "save_text(example_physics[0], example_physics[1], example_1)"
      ]
    },
    {
      "cell_type": "code",
      "execution_count": 36,
      "metadata": {},
      "outputs": [
        {
          "name": "stdout",
          "output_type": "stream",
          "text": [
            "Searching for Tony_Hawk\n",
            "Tony Hawk\n",
            "Page not found\n",
            "Looking for wikidata page id\n"
          ]
        },
        {
          "name": "stderr",
          "output_type": "stream",
          "text": [
            "Tony Hawk (en) data\n",
            "{\n",
            "  WARNINGS: <dict(2)> main, extracts\n",
            "  aliases: <list(2)> Anthony Frank Hawk, Birdman\n",
            "  assessments: <dict(6)> United States, California, Biography, San...\n",
            "  description: American professional skateboarder\n",
            "  extext: <str(703)> **Anthony Frank Hawk** (born May 12, 1968), n...\n",
            "  extract: <str(758)> <p class=\"mw-empty-elt\"></p><p><b>Anthony Fr...\n",
            "  image: <list(2)> {'kind': 'query-pageimage', 'file': 'File:Tony ...\n",
            "  label: Tony Hawk\n",
            "  length: 62,575\n",
            "  links: <list(251)> \"Weird Al\" Yankovic, 1UP.com, 3000 Miles, 900...\n",
            "  modified: <dict(1)> page\n",
            "  pageid: 87474\n",
            "  random: Ron Brooks\n",
            "  redirects: <list(9)> {'pageid': 4017663, 'ns': 0, 'title': 'Tony...\n",
            "  requests: <list(2)> query, imageinfo\n",
            "  title: Tony Hawk\n",
            "  url: https://en.wikipedia.org/wiki/Tony_Hawk\n",
            "  url_raw: https://en.wikipedia.org/wiki/Tony_Hawk?action=raw\n",
            "  watchers: 352\n",
            "  wikibase: Q295020\n",
            "  wikidata_url: https://www.wikidata.org/wiki/Q295020\n",
            "}\n"
          ]
        },
        {
          "name": "stdout",
          "output_type": "stream",
          "text": [
            "Page found!\n"
          ]
        }
      ],
      "source": [
        "example_2 = collect_bios(example_skaters[0])\n",
        "save_text(example_skaters[0], example_skaters[1], example_2)"
      ]
    },
    {
      "cell_type": "markdown",
      "metadata": {
        "id": "Ce7yyS0GoHTM"
      },
      "source": []
    }
  ],
  "metadata": {
    "colab": {
      "provenance": []
    },
    "kernelspec": {
      "display_name": "Python 3",
      "name": "python3"
    },
    "language_info": {
      "codemirror_mode": {
        "name": "ipython",
        "version": 3
      },
      "file_extension": ".py",
      "mimetype": "text/x-python",
      "name": "python",
      "nbconvert_exporter": "python",
      "pygments_lexer": "ipython3",
      "version": "3.12.0"
    }
  },
  "nbformat": 4,
  "nbformat_minor": 0
}
