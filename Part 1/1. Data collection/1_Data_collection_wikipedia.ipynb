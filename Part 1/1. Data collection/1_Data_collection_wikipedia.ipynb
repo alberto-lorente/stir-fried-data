{
  "cells": [
    {
      "cell_type": "markdown",
      "metadata": {
        "id": "Pb9Ct8MwnqR0"
      },
      "source": [
        "Tunji and Yan will feed names and categories\n"
      ]
    },
    {
      "cell_type": "code",
      "execution_count": 1,
      "metadata": {
        "colab": {
          "base_uri": "https://localhost:8080/"
        },
        "id": "yaYSj_HFn4Zc",
        "outputId": "ac21e3b6-40dc-47cc-ca62-23f20af67d01"
      },
      "outputs": [],
      "source": [
        "# !pip install wikipedia\n",
        "# !pip install wptools"
      ]
    },
    {
      "cell_type": "code",
      "execution_count": 2,
      "metadata": {
        "id": "NJAS550BnbIp"
      },
      "outputs": [],
      "source": [
        "import json\n",
        "import pandas as pd\n",
        "import requests\n",
        "import wikipedia\n",
        "import wptools"
      ]
    },
    {
      "cell_type": "code",
      "execution_count": 3,
      "metadata": {
        "id": "hyw1Qy-woRuX"
      },
      "outputs": [],
      "source": [
        "example_physics = (\"Peter_Higgs\", \"Nobel_Prize_Physics_winners\")"
      ]
    },
    {
      "cell_type": "code",
      "execution_count": 4,
      "metadata": {
        "id": "iFejOgcSodMG"
      },
      "outputs": [],
      "source": [
        "example_skaters = (\"Tony_Hawk\", \"skater\")"
      ]
    },
    {
      "cell_type": "markdown",
      "metadata": {
        "id": "4sFii5PQ0nKX"
      },
      "source": [
        "See if we can get smth from https://github.com/siznax/wptools"
      ]
    },
    {
      "cell_type": "code",
      "execution_count": 5,
      "metadata": {
        "id": "gGcF3ZMw1gXH"
      },
      "outputs": [],
      "source": [
        "# list_names = [(\"name\", \"category\"), (\"name\", \"category\")]\n",
        "# for tuple_ in list_names:\n",
        "#   collect_bios(tuple_[0], tuple_[1])"
      ]
    },
    {
      "cell_type": "code",
      "execution_count": 12,
      "metadata": {
        "id": "bMt3BrDDo9pZ"
      },
      "outputs": [],
      "source": [
        "def collect_bios(name, category):\n",
        "  # wikipedia.set_lang(\"eng\")\n",
        "\n",
        "  print(\"Searching for\", name)\n",
        "\n",
        "  search_name = name.replace(\"_\", \" \")\n",
        "\n",
        "  search = wikipedia.search(search_name)[0]\n",
        "  print(search)\n",
        "\n",
        "  try:\n",
        "    page = wikipedia.page(search)\n",
        "    print(\"Page found\")\n",
        "    full_content = page.content # we are getting all the content of the page for now\n",
        "\n",
        "  except:\n",
        "    print(\"page not found\")\n",
        "    #suggestions\n",
        "    wp_page = wptools.page(search_name)\n",
        "    query = wp_page.get_query()\n",
        "    # print(query.data)\n",
        "    page_id = query.data[\"pageid\"]\n",
        "    page_url = query.data[\"url\"]\n",
        "    print(page_id, page_url)\n",
        "    wikipage = wikipedia.page(page_url)\n",
        "\n",
        "  # check that the search was right\n",
        "  # if search_name == page.title:\n",
        "  #   print(search_name)\n",
        "  # else:\n",
        "  #   print(\"Unsuccesful search\")\n",
        "\n",
        "  # WHAT DO WE MEAN BY BIOGRAPHY: ALL THE PAGE, SUMMARY, SPECIFIC BOXES?\n",
        "\n",
        "\n",
        "\n",
        "  # html = page.html\n",
        "  # if we wanted to get specific sections, we can parse the html and the sections are in this tag:\n",
        "  # <span class=\"mw-headline\" id=\"Early_life\">Early life</span>\n",
        "\n",
        "\n"
      ]
    },
    {
      "cell_type": "code",
      "execution_count": 7,
      "metadata": {
        "id": "FEjRzhTG1Ym_"
      },
      "outputs": [],
      "source": [
        "def save_text(name, category, full_content):\n",
        "  name = name.replace(\"_\", \"\")\n",
        "  file_name = name + \"_\" + category + \".txt\"\n",
        "  with open(file_name, \"w\") as f:\n",
        "    f.wrtie(full_content)\n"
      ]
    },
    {
      "cell_type": "code",
      "execution_count": 8,
      "metadata": {
        "id": "5CZ978xY2kLX"
      },
      "outputs": [],
      "source": [
        "import os"
      ]
    },
    {
      "cell_type": "code",
      "execution_count": 9,
      "metadata": {
        "id": "2lDFfBLg2LBJ"
      },
      "outputs": [],
      "source": [
        "def data_frame(file_paths):\n",
        "  df = pd.DataFrame()\n",
        "  list_files_dir = os.list_dir(file_paths)\n",
        "  for file_content in list_files_dir:\n",
        "    with open(file_content, \"r\") as f:\n",
        "      content = f.read()\n",
        "      names = file_content.replace(\".text\", \"\").split(\"_\")\n",
        "      name = names[0]\n",
        "      category = names[1]\n",
        "      dictionary = {\"Text\": content, \"Category\": category}\n",
        "      df_file = pd.DataFrame.from_dict(dictionary)\n",
        "      df = pd.concat([df, df_file], axis = 1 )\n",
        "    return df"
      ]
    },
    {
      "cell_type": "code",
      "execution_count": 13,
      "metadata": {},
      "outputs": [
        {
          "name": "stdout",
          "output_type": "stream",
          "text": [
            "Searching for Tony_Hawk\n",
            "Tony Hawk\n",
            "page not found\n"
          ]
        },
        {
          "name": "stderr",
          "output_type": "stream",
          "text": [
            "Tony Hawk (en) data\n",
            "{\n",
            "  WARNINGS: <dict(2)> main, extracts\n",
            "  aliases: <list(2)> Anthony Frank Hawk, Birdman\n",
            "  assessments: <dict(6)> United States, California, Biography, San...\n",
            "  description: American professional skateboarder\n",
            "  extext: <str(703)> **Anthony Frank Hawk** (born May 12, 1968), n...\n",
            "  extract: <str(758)> <p class=\"mw-empty-elt\"></p><p><b>Anthony Fr...\n",
            "  image: <list(2)> {'kind': 'query-pageimage', 'file': 'File:Tony ...\n",
            "  label: Tony Hawk\n",
            "  length: 62,575\n",
            "  links: <list(251)> \"Weird Al\" Yankovic, 1UP.com, 3000 Miles, 900...\n",
            "  modified: <dict(1)> page\n",
            "  pageid: 87474\n",
            "  random: Albay's 1st congressional district\n",
            "  redirects: <list(9)> {'pageid': 4017663, 'ns': 0, 'title': 'Tony...\n",
            "  requests: <list(2)> query, imageinfo\n",
            "  title: Tony Hawk\n",
            "  url: https://en.wikipedia.org/wiki/Tony_Hawk\n",
            "  url_raw: https://en.wikipedia.org/wiki/Tony_Hawk?action=raw\n",
            "  watchers: 352\n",
            "  wikibase: Q295020\n",
            "  wikidata_url: https://www.wikidata.org/wiki/Q295020\n",
            "}\n"
          ]
        },
        {
          "name": "stdout",
          "output_type": "stream",
          "text": [
            "87474 https://en.wikipedia.org/wiki/Tony_Hawk\n"
          ]
        },
        {
          "ename": "PageError",
          "evalue": "Page id \"http en.wikipedia.org wiki tony hawk\" does not match any pages. Try another id!",
          "output_type": "error",
          "traceback": [
            "\u001b[1;31m---------------------------------------------------------------------------\u001b[0m",
            "\u001b[1;31mPageError\u001b[0m                                 Traceback (most recent call last)",
            "Cell \u001b[1;32mIn[12], line 12\u001b[0m, in \u001b[0;36mcollect_bios\u001b[1;34m(name, category)\u001b[0m\n\u001b[0;32m     11\u001b[0m \u001b[38;5;28;01mtry\u001b[39;00m:\n\u001b[1;32m---> 12\u001b[0m   page \u001b[38;5;241m=\u001b[39m \u001b[43mwikipedia\u001b[49m\u001b[38;5;241;43m.\u001b[39;49m\u001b[43mpage\u001b[49m\u001b[43m(\u001b[49m\u001b[43msearch\u001b[49m\u001b[43m)\u001b[49m\n\u001b[0;32m     13\u001b[0m   \u001b[38;5;28mprint\u001b[39m(\u001b[38;5;124m\"\u001b[39m\u001b[38;5;124mPage found\u001b[39m\u001b[38;5;124m\"\u001b[39m)\n",
            "File \u001b[1;32mc:\\Users\\alber\\AppData\\Local\\Programs\\Python\\Python312\\Lib\\site-packages\\wikipedia\\wikipedia.py:276\u001b[0m, in \u001b[0;36mpage\u001b[1;34m(title, pageid, auto_suggest, redirect, preload)\u001b[0m\n\u001b[0;32m    275\u001b[0m       \u001b[38;5;28;01mraise\u001b[39;00m PageError(title)\n\u001b[1;32m--> 276\u001b[0m   \u001b[38;5;28;01mreturn\u001b[39;00m \u001b[43mWikipediaPage\u001b[49m\u001b[43m(\u001b[49m\u001b[43mtitle\u001b[49m\u001b[43m,\u001b[49m\u001b[43m \u001b[49m\u001b[43mredirect\u001b[49m\u001b[38;5;241;43m=\u001b[39;49m\u001b[43mredirect\u001b[49m\u001b[43m,\u001b[49m\u001b[43m \u001b[49m\u001b[43mpreload\u001b[49m\u001b[38;5;241;43m=\u001b[39;49m\u001b[43mpreload\u001b[49m\u001b[43m)\u001b[49m\n\u001b[0;32m    277\u001b[0m \u001b[38;5;28;01melif\u001b[39;00m pageid \u001b[38;5;129;01mis\u001b[39;00m \u001b[38;5;129;01mnot\u001b[39;00m \u001b[38;5;28;01mNone\u001b[39;00m:\n",
            "File \u001b[1;32mc:\\Users\\alber\\AppData\\Local\\Programs\\Python\\Python312\\Lib\\site-packages\\wikipedia\\wikipedia.py:299\u001b[0m, in \u001b[0;36mWikipediaPage.__init__\u001b[1;34m(self, title, pageid, redirect, preload, original_title)\u001b[0m\n\u001b[0;32m    297\u001b[0m   \u001b[38;5;28;01mraise\u001b[39;00m \u001b[38;5;167;01mValueError\u001b[39;00m(\u001b[38;5;124m\"\u001b[39m\u001b[38;5;124mEither a title or a pageid must be specified\u001b[39m\u001b[38;5;124m\"\u001b[39m)\n\u001b[1;32m--> 299\u001b[0m \u001b[38;5;28;43mself\u001b[39;49m\u001b[38;5;241;43m.\u001b[39;49m\u001b[43m__load\u001b[49m\u001b[43m(\u001b[49m\u001b[43mredirect\u001b[49m\u001b[38;5;241;43m=\u001b[39;49m\u001b[43mredirect\u001b[49m\u001b[43m,\u001b[49m\u001b[43m \u001b[49m\u001b[43mpreload\u001b[49m\u001b[38;5;241;43m=\u001b[39;49m\u001b[43mpreload\u001b[49m\u001b[43m)\u001b[49m\n\u001b[0;32m    301\u001b[0m \u001b[38;5;28;01mif\u001b[39;00m preload:\n",
            "File \u001b[1;32mc:\\Users\\alber\\AppData\\Local\\Programs\\Python\\Python312\\Lib\\site-packages\\wikipedia\\wikipedia.py:345\u001b[0m, in \u001b[0;36mWikipediaPage.__load\u001b[1;34m(self, redirect, preload)\u001b[0m\n\u001b[0;32m    344\u001b[0m \u001b[38;5;28;01mif\u001b[39;00m \u001b[38;5;28mhasattr\u001b[39m(\u001b[38;5;28mself\u001b[39m, \u001b[38;5;124m'\u001b[39m\u001b[38;5;124mtitle\u001b[39m\u001b[38;5;124m'\u001b[39m):\n\u001b[1;32m--> 345\u001b[0m   \u001b[38;5;28;01mraise\u001b[39;00m PageError(\u001b[38;5;28mself\u001b[39m\u001b[38;5;241m.\u001b[39mtitle)\n\u001b[0;32m    346\u001b[0m \u001b[38;5;28;01melse\u001b[39;00m:\n",
            "\u001b[1;31mPageError\u001b[0m: Page id \"tom hawk\" does not match any pages. Try another id!",
            "\nDuring handling of the above exception, another exception occurred:\n",
            "\u001b[1;31mPageError\u001b[0m                                 Traceback (most recent call last)",
            "Cell \u001b[1;32mIn[13], line 1\u001b[0m\n\u001b[1;32m----> 1\u001b[0m \u001b[43mcollect_bios\u001b[49m\u001b[43m(\u001b[49m\u001b[43mexample_skaters\u001b[49m\u001b[43m[\u001b[49m\u001b[38;5;241;43m0\u001b[39;49m\u001b[43m]\u001b[49m\u001b[43m,\u001b[49m\u001b[43m \u001b[49m\u001b[43mexample_physics\u001b[49m\u001b[43m[\u001b[49m\u001b[38;5;241;43m1\u001b[39;49m\u001b[43m]\u001b[49m\u001b[43m)\u001b[49m\n",
            "Cell \u001b[1;32mIn[12], line 25\u001b[0m, in \u001b[0;36mcollect_bios\u001b[1;34m(name, category)\u001b[0m\n\u001b[0;32m     23\u001b[0m page_url \u001b[38;5;241m=\u001b[39m query\u001b[38;5;241m.\u001b[39mdata[\u001b[38;5;124m\"\u001b[39m\u001b[38;5;124murl\u001b[39m\u001b[38;5;124m\"\u001b[39m]\n\u001b[0;32m     24\u001b[0m \u001b[38;5;28mprint\u001b[39m(page_id, page_url)\n\u001b[1;32m---> 25\u001b[0m wikipage \u001b[38;5;241m=\u001b[39m \u001b[43mwikipedia\u001b[49m\u001b[38;5;241;43m.\u001b[39;49m\u001b[43mpage\u001b[49m\u001b[43m(\u001b[49m\u001b[43mpage_url\u001b[49m\u001b[43m)\u001b[49m\n",
            "File \u001b[1;32mc:\\Users\\alber\\AppData\\Local\\Programs\\Python\\Python312\\Lib\\site-packages\\wikipedia\\wikipedia.py:276\u001b[0m, in \u001b[0;36mpage\u001b[1;34m(title, pageid, auto_suggest, redirect, preload)\u001b[0m\n\u001b[0;32m    273\u001b[0m     \u001b[38;5;28;01mexcept\u001b[39;00m \u001b[38;5;167;01mIndexError\u001b[39;00m:\n\u001b[0;32m    274\u001b[0m       \u001b[38;5;66;03m# if there is no suggestion or search results, the page doesn't exist\u001b[39;00m\n\u001b[0;32m    275\u001b[0m       \u001b[38;5;28;01mraise\u001b[39;00m PageError(title)\n\u001b[1;32m--> 276\u001b[0m   \u001b[38;5;28;01mreturn\u001b[39;00m \u001b[43mWikipediaPage\u001b[49m\u001b[43m(\u001b[49m\u001b[43mtitle\u001b[49m\u001b[43m,\u001b[49m\u001b[43m \u001b[49m\u001b[43mredirect\u001b[49m\u001b[38;5;241;43m=\u001b[39;49m\u001b[43mredirect\u001b[49m\u001b[43m,\u001b[49m\u001b[43m \u001b[49m\u001b[43mpreload\u001b[49m\u001b[38;5;241;43m=\u001b[39;49m\u001b[43mpreload\u001b[49m\u001b[43m)\u001b[49m\n\u001b[0;32m    277\u001b[0m \u001b[38;5;28;01melif\u001b[39;00m pageid \u001b[38;5;129;01mis\u001b[39;00m \u001b[38;5;129;01mnot\u001b[39;00m \u001b[38;5;28;01mNone\u001b[39;00m:\n\u001b[0;32m    278\u001b[0m   \u001b[38;5;28;01mreturn\u001b[39;00m WikipediaPage(pageid\u001b[38;5;241m=\u001b[39mpageid, preload\u001b[38;5;241m=\u001b[39mpreload)\n",
            "File \u001b[1;32mc:\\Users\\alber\\AppData\\Local\\Programs\\Python\\Python312\\Lib\\site-packages\\wikipedia\\wikipedia.py:299\u001b[0m, in \u001b[0;36mWikipediaPage.__init__\u001b[1;34m(self, title, pageid, redirect, preload, original_title)\u001b[0m\n\u001b[0;32m    296\u001b[0m \u001b[38;5;28;01melse\u001b[39;00m:\n\u001b[0;32m    297\u001b[0m   \u001b[38;5;28;01mraise\u001b[39;00m \u001b[38;5;167;01mValueError\u001b[39;00m(\u001b[38;5;124m\"\u001b[39m\u001b[38;5;124mEither a title or a pageid must be specified\u001b[39m\u001b[38;5;124m\"\u001b[39m)\n\u001b[1;32m--> 299\u001b[0m \u001b[38;5;28;43mself\u001b[39;49m\u001b[38;5;241;43m.\u001b[39;49m\u001b[43m__load\u001b[49m\u001b[43m(\u001b[49m\u001b[43mredirect\u001b[49m\u001b[38;5;241;43m=\u001b[39;49m\u001b[43mredirect\u001b[49m\u001b[43m,\u001b[49m\u001b[43m \u001b[49m\u001b[43mpreload\u001b[49m\u001b[38;5;241;43m=\u001b[39;49m\u001b[43mpreload\u001b[49m\u001b[43m)\u001b[49m\n\u001b[0;32m    301\u001b[0m \u001b[38;5;28;01mif\u001b[39;00m preload:\n\u001b[0;32m    302\u001b[0m   \u001b[38;5;28;01mfor\u001b[39;00m prop \u001b[38;5;129;01min\u001b[39;00m (\u001b[38;5;124m'\u001b[39m\u001b[38;5;124mcontent\u001b[39m\u001b[38;5;124m'\u001b[39m, \u001b[38;5;124m'\u001b[39m\u001b[38;5;124msummary\u001b[39m\u001b[38;5;124m'\u001b[39m, \u001b[38;5;124m'\u001b[39m\u001b[38;5;124mimages\u001b[39m\u001b[38;5;124m'\u001b[39m, \u001b[38;5;124m'\u001b[39m\u001b[38;5;124mreferences\u001b[39m\u001b[38;5;124m'\u001b[39m, \u001b[38;5;124m'\u001b[39m\u001b[38;5;124mlinks\u001b[39m\u001b[38;5;124m'\u001b[39m, \u001b[38;5;124m'\u001b[39m\u001b[38;5;124msections\u001b[39m\u001b[38;5;124m'\u001b[39m):\n",
            "File \u001b[1;32mc:\\Users\\alber\\AppData\\Local\\Programs\\Python\\Python312\\Lib\\site-packages\\wikipedia\\wikipedia.py:345\u001b[0m, in \u001b[0;36mWikipediaPage.__load\u001b[1;34m(self, redirect, preload)\u001b[0m\n\u001b[0;32m    343\u001b[0m \u001b[38;5;28;01mif\u001b[39;00m \u001b[38;5;124m'\u001b[39m\u001b[38;5;124mmissing\u001b[39m\u001b[38;5;124m'\u001b[39m \u001b[38;5;129;01min\u001b[39;00m page:\n\u001b[0;32m    344\u001b[0m   \u001b[38;5;28;01mif\u001b[39;00m \u001b[38;5;28mhasattr\u001b[39m(\u001b[38;5;28mself\u001b[39m, \u001b[38;5;124m'\u001b[39m\u001b[38;5;124mtitle\u001b[39m\u001b[38;5;124m'\u001b[39m):\n\u001b[1;32m--> 345\u001b[0m     \u001b[38;5;28;01mraise\u001b[39;00m PageError(\u001b[38;5;28mself\u001b[39m\u001b[38;5;241m.\u001b[39mtitle)\n\u001b[0;32m    346\u001b[0m   \u001b[38;5;28;01melse\u001b[39;00m:\n\u001b[0;32m    347\u001b[0m     \u001b[38;5;28;01mraise\u001b[39;00m PageError(pageid\u001b[38;5;241m=\u001b[39m\u001b[38;5;28mself\u001b[39m\u001b[38;5;241m.\u001b[39mpageid)\n",
            "\u001b[1;31mPageError\u001b[0m: Page id \"http en.wikipedia.org wiki tony hawk\" does not match any pages. Try another id!"
          ]
        }
      ],
      "source": [
        "collect_bios(example_skaters[0], example_physics[1])\n"
      ]
    },
    {
      "cell_type": "markdown",
      "metadata": {
        "id": "Ce7yyS0GoHTM"
      },
      "source": []
    }
  ],
  "metadata": {
    "colab": {
      "provenance": []
    },
    "kernelspec": {
      "display_name": "Python 3",
      "name": "python3"
    },
    "language_info": {
      "codemirror_mode": {
        "name": "ipython",
        "version": 3
      },
      "file_extension": ".py",
      "mimetype": "text/x-python",
      "name": "python",
      "nbconvert_exporter": "python",
      "pygments_lexer": "ipython3",
      "version": "3.12.0"
    }
  },
  "nbformat": 4,
  "nbformat_minor": 0
}
