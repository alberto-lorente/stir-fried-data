{
  "nbformat": 4,
  "nbformat_minor": 0,
  "metadata": {
    "colab": {
      "provenance": []
    },
    "kernelspec": {
      "name": "python3",
      "display_name": "Python 3"
    },
    "language_info": {
      "name": "python"
    }
  },
  "cells": [
    {
      "cell_type": "markdown",
      "source": [
        "Tunji and Yan will feed names and categories\n"
      ],
      "metadata": {
        "id": "Pb9Ct8MwnqR0"
      }
    },
    {
      "cell_type": "code",
      "source": [
        "!pip install wikipedia\n",
        "!pip install wptools"
      ],
      "metadata": {
        "colab": {
          "base_uri": "https://localhost:8080/"
        },
        "id": "yaYSj_HFn4Zc",
        "outputId": "ac21e3b6-40dc-47cc-ca62-23f20af67d01"
      },
      "execution_count": 115,
      "outputs": [
        {
          "output_type": "stream",
          "name": "stdout",
          "text": [
            "Requirement already satisfied: wikipedia in /usr/local/lib/python3.10/dist-packages (1.4.0)\n",
            "Requirement already satisfied: beautifulsoup4 in /usr/local/lib/python3.10/dist-packages (from wikipedia) (4.12.3)\n",
            "Requirement already satisfied: requests<3.0.0,>=2.0.0 in /usr/local/lib/python3.10/dist-packages (from wikipedia) (2.31.0)\n",
            "Requirement already satisfied: charset-normalizer<4,>=2 in /usr/local/lib/python3.10/dist-packages (from requests<3.0.0,>=2.0.0->wikipedia) (3.3.2)\n",
            "Requirement already satisfied: idna<4,>=2.5 in /usr/local/lib/python3.10/dist-packages (from requests<3.0.0,>=2.0.0->wikipedia) (3.7)\n",
            "Requirement already satisfied: urllib3<3,>=1.21.1 in /usr/local/lib/python3.10/dist-packages (from requests<3.0.0,>=2.0.0->wikipedia) (2.0.7)\n",
            "Requirement already satisfied: certifi>=2017.4.17 in /usr/local/lib/python3.10/dist-packages (from requests<3.0.0,>=2.0.0->wikipedia) (2024.2.2)\n",
            "Requirement already satisfied: soupsieve>1.2 in /usr/local/lib/python3.10/dist-packages (from beautifulsoup4->wikipedia) (2.5)\n",
            "Requirement already satisfied: wptools in /usr/local/lib/python3.10/dist-packages (0.4.17)\n",
            "Requirement already satisfied: certifi in /usr/local/lib/python3.10/dist-packages (from wptools) (2024.2.2)\n",
            "Requirement already satisfied: html2text in /usr/local/lib/python3.10/dist-packages (from wptools) (2024.2.26)\n",
            "Requirement already satisfied: lxml in /usr/local/lib/python3.10/dist-packages (from wptools) (4.9.4)\n",
            "Requirement already satisfied: pycurl in /usr/local/lib/python3.10/dist-packages (from wptools) (7.45.3)\n"
          ]
        }
      ]
    },
    {
      "cell_type": "code",
      "execution_count": 116,
      "metadata": {
        "id": "NJAS550BnbIp"
      },
      "outputs": [],
      "source": [
        "import json\n",
        "import pandas as pd\n",
        "import requests\n",
        "import wikipedia\n",
        "import wptools"
      ]
    },
    {
      "cell_type": "code",
      "source": [
        "example_physics = (\"Peter_Higgs\", \"Nobel_Prize_Physics_winners\")"
      ],
      "metadata": {
        "id": "hyw1Qy-woRuX"
      },
      "execution_count": 117,
      "outputs": []
    },
    {
      "cell_type": "code",
      "source": [
        "example_skaters = (\"Tony_Hawk\", \"skater\")"
      ],
      "metadata": {
        "id": "iFejOgcSodMG"
      },
      "execution_count": 118,
      "outputs": []
    },
    {
      "cell_type": "markdown",
      "source": [
        "See if we can get smth from https://github.com/siznax/wptools"
      ],
      "metadata": {
        "id": "4sFii5PQ0nKX"
      }
    },
    {
      "cell_type": "code",
      "source": [
        "# list_names = [(\"name\", \"category\"), (\"name\", \"category\")]\n",
        "# for tuple_ in list_names:\n",
        "#   collect_bios(tuple_[0], tuple_[1])"
      ],
      "metadata": {
        "id": "gGcF3ZMw1gXH"
      },
      "execution_count": null,
      "outputs": []
    },
    {
      "cell_type": "code",
      "source": [
        "def collect_bios(name, category):\n",
        "  # wikipedia.set_lang(\"eng\")\n",
        "\n",
        "  print(\"Searching for\", name)\n",
        "\n",
        "  search_name = name.replace(\"_\", \" \")\n",
        "\n",
        "  search = wikipedia.search(search_name)[0]\n",
        "  print(search)\n",
        "\n",
        "  try:\n",
        "    page = wikipedia.page(search)\n",
        "    print(\"Page found\")\n",
        "    full_content = page.content # we are getting all the content of the page for now\n",
        "\n",
        "  except:\n",
        "    print(\"page not found\")\n",
        "    #suggestions\n",
        "    wp_page = wptools.page(search_name)\n",
        "    query = wp_page.get_query()\n",
        "    # print(query.data)\n",
        "    page_id = query.data[\"pageid\"]\n",
        "    page_url = query.data[\"url\"]\n",
        "    print(page_id, page_url)\n",
        "    # wikipage = wikipedia.page(page_url)\n",
        "\n",
        "  # check that the search was right\n",
        "  # if search_name == page.title:\n",
        "  #   print(search_name)\n",
        "  # else:\n",
        "  #   print(\"Unsuccesful search\")\n",
        "\n",
        "  # WHAT DO WE MEAN BY BIOGRAPHY: ALL THE PAGE, SUMMARY, SPECIFIC BOXES?\n",
        "\n",
        "\n",
        "\n",
        "  # html = page.html\n",
        "  # if we wanted to get specific sections, we can parse the html and the sections are in this tag:\n",
        "  # <span class=\"mw-headline\" id=\"Early_life\">Early life</span>\n",
        "\n",
        "\n"
      ],
      "metadata": {
        "id": "bMt3BrDDo9pZ"
      },
      "execution_count": 125,
      "outputs": []
    },
    {
      "cell_type": "code",
      "source": [
        "def save_text(name, category, full_content):\n",
        "  name = name.replace(\"_\", \"\")\n",
        "  file_name = name + \"_\" + category + \".txt\"\n",
        "  with open(file_name, \"w\") as f:\n",
        "    f.wrtie(full_content)\n"
      ],
      "metadata": {
        "id": "FEjRzhTG1Ym_"
      },
      "execution_count": 127,
      "outputs": []
    },
    {
      "cell_type": "code",
      "source": [
        "import os"
      ],
      "metadata": {
        "id": "5CZ978xY2kLX"
      },
      "execution_count": 128,
      "outputs": []
    },
    {
      "cell_type": "code",
      "source": [
        "def data_frame(file_paths):\n",
        "  df = pd.DataFrame()\n",
        "  list_files_dir = os.list_dir(file_paths)\n",
        "  for file_content in list_files_dir:\n",
        "    with open(file_content, \"r\") as f:\n",
        "      content = f.read()\n",
        "      names = file_content.replace(\".text\", \"\").split(\"_\")\n",
        "      name = names[0]\n",
        "      category = names[1]\n",
        "      dictionary = {\"Text\": content, \"Category\": category}\n",
        "      df_file = pd.DataFrame.from_dict(dictionary)\n",
        "      df = pd.concat([df, df_file], axis = 1 )\n",
        "    return df"
      ],
      "metadata": {
        "id": "2lDFfBLg2LBJ"
      },
      "execution_count": 134,
      "outputs": []
    },
    {
      "cell_type": "markdown",
      "source": [],
      "metadata": {
        "id": "Ce7yyS0GoHTM"
      }
    }
  ]
}